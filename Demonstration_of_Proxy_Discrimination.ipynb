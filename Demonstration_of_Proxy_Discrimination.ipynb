{
 "cells": [
  {
   "cell_type": "markdown",
   "metadata": {},
   "source": [
    "\n",
    "# Demonstration of Proxy Discrimination and `DiscriminationMitigator`"
   ]
  },
  {
   "cell_type": "markdown",
   "metadata": {},
   "source": [
    "If \n",
    "1. Covariates are not independent of group membership\n",
    "\n",
    "and \n",
    "2. The target is not independent of the group conditional on the covariates\n",
    "\n",
    "then covariates can proxy for group membership, and excluding group memership from a model is insufficient to prevent the model from indirectly forming predictions on the basis of group membership.  \n",
    "\n",
    "In this notebook, we develop an example to illustrate this problem as well as how our DiscriminationMitigator addresses this problem.  "
   ]
  },
  {
   "cell_type": "code",
   "execution_count": 20,
   "metadata": {},
   "outputs": [],
   "source": [
    "# standard preamble\n",
    "import json\n",
    "from DiscriminationMitigation import *\n",
    "from sklearn.model_selection import train_test_split\n",
    "pd.set_option('display.max_rows', 20)\n",
    "pd.set_option('display.max_columns', 100)\n",
    "import matplotlib.pyplot as plt\n",
    "with open('example_config.json') as j:\n",
    "    config = json.load(j)\n",
    "    \n",
    "N = 8000\n"
   ]
  },
  {
   "cell_type": "markdown",
   "metadata": {},
   "source": [
    "In the following data generating process, we have a target variable *y* that we are trying to predict, we have dummies for membership in one of two mutually exclusive groups *g1* and *g0*, and we have a single covariate *w*.\n",
    "\n",
    "group membership is drawn from a binomial. The draws of the covariate depend upon group membership (as well as independent normal draws), which generates a correlation between group and the covariate. \n",
    "\n",
    "The target variable *y* is determined by group membership, the covariate, and independent normal draws.  The \"direct effect\" of group membership on y can be thought of as representing unobserved causal variables that are correlated with group (holding the covariate constant), but it could also represent bias in the target or taste-based discrimination in the target.  It is this \"direct effect\" that allows dependency between the target and group membership even after conditioning on the covariates. \n",
    "\n",
    "Note that the data generating process `dgp(.)` allows for the effect of the covariate to differ across groups.  Such differences can be problematic for the discrimination mitigator.  However, we do not explore these problems in this notebook. "
   ]
  },
  {
   "cell_type": "code",
   "execution_count": 6,
   "metadata": {},
   "outputs": [],
   "source": [
    "def dgp(n=500, class_prob=0.5, \n",
    "        gamma=np.matrix([[2,3],[.4,.6]]), \n",
    "        alpha=np.matrix([[0,2]]), \n",
    "        beta=np.matrix([[2,2],[1,1]]) ):\n",
    "    \n",
    "    np.random.seed(1776)\n",
    "\n",
    "    # Protected class variable\n",
    "    g1 = np.random.binomial(1, p=class_prob, size=n) # group 1\n",
    "    g0 = 1-g1 # group 0\n",
    "\n",
    "    # Other covariates\n",
    "    w = gamma[0,0]*g0 + gamma[0,1]*g1 + np.random.normal(0, 0.5, size=n) # linear function of class & shock\n",
    "    \n",
    "                                                                 \n",
    "    # Outcome variable\n",
    "    y = alpha[0,0]*g0   + alpha[0,1]*g1 + \\\n",
    "        beta[0,0]*g0*w + beta[0,1]*g1*w + \\\n",
    "        np.random.normal(0, 0.3, size=n)\n",
    "\n",
    "    return pd.DataFrame([y, g0, g1, w]).T.rename(columns={0:'y', 1: 'g0', 2: 'g1', 3: 'w'})"
   ]
  },
  {
   "cell_type": "code",
   "execution_count": 41,
   "metadata": {},
   "outputs": [],
   "source": [
    "def simple_synth(n=8000, class_prob=0.5, gamma=np.matrix([[2,3.5],[.4,.6]]), alpha=np.matrix([[0,2]]), \n",
    "                 beta=np.matrix([[2,2],[1,1]])):\n",
    "    \n",
    "    np.random.seed(1776)\n",
    "\n",
    "    # Protected class variable\n",
    "    c1 = np.random.binomial(1, p=class_prob, size=n) # group 1\n",
    "    c0 = 1-c1 # group 0\n",
    "\n",
    "    # Other covariates\n",
    "    w0 = gamma[0,0]*c0 + gamma[0,1]*c1 + np.random.normal(0, 0.5, size=n) # linear function of class & shock\n",
    "    w1 = gamma[1,0]*c0 + gamma[1,1]*c1 + np.random.normal(0, 0.3, size=n)\n",
    "                                                                 \n",
    "    # Outcome variable\n",
    "    y = alpha[0,0]*c0 + alpha[0,1]*c1 + beta[0,0]*c0*w0 + beta[0,1]*c1*w0 + beta[1,0]*c0*w1 + beta[1,1]*c1*w1 + \\\n",
    "        np.random.normal(0, 0.3, size=n)\n",
    "\n",
    "    return pd.DataFrame([y, c0, c1, w0, w1]).T.rename(columns={0:'y', 1: 'c0', 2: 'c1', 3: 'w0', 4:'w1'})"
   ]
  },
  {
   "cell_type": "markdown",
   "metadata": {},
   "source": [
    "#### Synthesize data according to the assumed data generating process"
   ]
  },
  {
   "cell_type": "code",
   "execution_count": 8,
   "metadata": {},
   "outputs": [
    {
     "name": "stdout",
     "output_type": "stream",
     "text": [
      "          y   g0   g1         w\n",
      "0  4.352377  1.0  0.0  2.214135\n",
      "1  7.278795  0.0  1.0  2.404301\n",
      "2  4.796693  1.0  0.0  2.338783\n",
      "3  8.514007  0.0  1.0  3.145858\n",
      "4  3.544551  1.0  0.0  1.523643\n",
      "\n",
      " (8000, 4)\n"
     ]
    }
   ],
   "source": [
    "class_prob=0.5\n",
    "gamma=np.matrix([[2,3.5],[.4,.6]])\n",
    "alpha=np.matrix([[0,2]])\n",
    "beta=np.matrix([[2,2],[1,1]])\n",
    "data = dgp(n=N, class_prob=class_prob, gamma=gamma, alpha=alpha, beta=beta)\n",
    "print(data.head())\n",
    "print(\"\\n\", data.shape)"
   ]
  },
  {
   "cell_type": "markdown",
   "metadata": {},
   "source": [
    "#### Graphical representation of varible dependence"
   ]
  },
  {
   "cell_type": "code",
   "execution_count": 9,
   "metadata": {},
   "outputs": [],
   "source": [
    "def dgp_y_hat(g0, g1, w, alpha, beta):\n",
    "    y = alpha[0,0]*g0   + alpha[0,1]*g1 + \\\n",
    "        beta[0,0]*g0*w + beta[0,1]*g1*w\n",
    "    return y\n",
    "   \n",
    "    \n",
    "    "
   ]
  },
  {
   "cell_type": "code",
   "execution_count": 10,
   "metadata": {},
   "outputs": [
    {
     "name": "stdout",
     "output_type": "stream",
     "text": [
      "3.0\n"
     ]
    }
   ],
   "source": [
    "y_fit_test = dgp_y_hat(0.5, 0.5, 1.0, alpha, beta)\n",
    "\n",
    "# y_fit1 = synth.loc[:, \"w0\"].apply(lambda w0: dgp_y_hat(0.5, 0.5, w0, 0.5, alpha, beta), axis=0)\n",
    "#print(y_fit_of_w0_c1(1))\n",
    "print(y_fit_test)"
   ]
  },
  {
   "cell_type": "code",
   "execution_count": 14,
   "metadata": {},
   "outputs": [
    {
     "data": {
      "text/plain": [
       "<matplotlib.legend.Legend at 0x22fc2278c70>"
      ]
     },
     "execution_count": 14,
     "metadata": {},
     "output_type": "execute_result"
    },
    {
     "data": {
      "image/png": "[encoded data removed]",
      "text/plain": [
       "<Figure size 432x288 with 1 Axes>"
      ]
     },
     "metadata": {
      "needs_background": "light"
     },
     "output_type": "display_data"
    }
   ],
   "source": [
    "synth_vars = [\"y\", \"g0\", \"g1\", \"w\"]\n",
    "g0_data = data.loc[data.loc[:, \"g0\"] == 1, :]\n",
    "g1_data = data.loc[data.loc[:, \"g1\"] == 1, :]\n",
    "\n",
    "#matplotlib.use('module://ipykernel.pylab.backend_inline')\n",
    "fig, axs = plt.subplots(ncols=1)\n",
    "axs.scatter(g0_data.loc[:, \"w\"],g0_data.loc[:, \"y\"],color='blue', marker= '.', label='Group 0', s=0.01)\n",
    "axs.scatter(g1_data.loc[:, \"w\"],g1_data.loc[:, \"y\"],color= 'red', marker='.', label='Group 1', s=0.01)\n",
    "\n",
    "axs.set_title('Different intercepts for different groups')\n",
    "axs.set_xlabel('w0')\n",
    "axs.set_ylabel('y')\n",
    "axs.legend(loc='best')\n",
    "#fig\n",
    "\n",
    "\n"
   ]
  },
  {
   "cell_type": "markdown",
   "metadata": {},
   "source": [
    "**Discussion of above figure**"
   ]
  },
  {
   "cell_type": "code",
   "execution_count": 21,
   "metadata": {},
   "outputs": [
    {
     "data": {
      "image/png": "[encoded data removed]",
      "text/plain": [
       "<Figure size 432x288 with 1 Axes>"
      ]
     },
     "execution_count": 21,
     "metadata": {},
     "output_type": "execute_result"
    }
   ],
   "source": [
    "def y_fit_of_w_of_g1(w, g1):  #class_prob, alpha, beta, gamma)\n",
    "    mean_w1 = (1-g1)*gamma[1,0] + g1*gamma[1,1]\n",
    "    return dgp_y_hat(1-g1, g1, w, alpha, beta)\n",
    "#y_fit1 = synth.loc[:, \"w0\"].apply(lambda w0: dgp_y_hat(0.5, 0.5, w0, 0.5, alpha, beta), axis=0)\n",
    "#y_fit_w0_c1 = synth.loc[:, \"w0\"].apply(lambda w0: y_fit_of_w0_of_c1(w0,1))\n",
    "#y_fit_w0_c0 = synth.loc[:, \"w0\"].apply(lambda w0: y_fit_of_w0_of_c1(w0,0))\n",
    "\n",
    "\n",
    "w_space = np.linspace(0, 5, 20)\n",
    "f_w_g0 = lambda w: y_fit_of_w_of_g1(w, 0)\n",
    "f_w_g1 = lambda w: y_fit_of_w_of_g1(w, 1)\n",
    "y_fitted_w_g0 = f_w_g0(w_space)\n",
    "y_fitted_w_g1 = f_w_g1(w_space)\n",
    "\n",
    "axs.plot(w_space, y_fitted_w_g0, color = \"blue\")\n",
    "axs.plot(w_space, y_fitted_w_g1, color = \"red\")\n",
    "fig\n",
    "#ax = plt.plot(w0_space, y_fitted)\n",
    "#ax.show()\n",
    "#ax = plt.line()\n",
    "\n"
   ]
  },
  {
   "cell_type": "markdown",
   "metadata": {},
   "source": [
    "#### What does the neural net predict when we omit the protected class variable? "
   ]
  },
  {
   "cell_type": "code",
   "execution_count": 26,
   "metadata": {},
   "outputs": [
    {
     "name": "stdout",
     "output_type": "stream",
     "text": [
      "(5120, 1)\n",
      "(1280, 1)\n",
      "(1600, 1)\n",
      "Model: \"sequential\"\n",
      "_________________________________________________________________\n",
      "Layer (type)                 Output Shape              Param #   \n",
      "=================================================================\n",
      "dense (Dense)                (None, 32)                64        \n",
      "_________________________________________________________________\n",
      "dropout (Dropout)            (None, 32)                0         \n",
      "_________________________________________________________________\n",
      "dense_1 (Dense)              (None, 16)                528       \n",
      "_________________________________________________________________\n",
      "dropout_1 (Dropout)          (None, 16)                0         \n",
      "_________________________________________________________________\n",
      "dense_2 (Dense)              (None, 16)                272       \n",
      "_________________________________________________________________\n",
      "dense_3 (Dense)              (None, 1)                 17        \n",
      "=================================================================\n",
      "Total params: 881\n",
      "Trainable params: 881\n",
      "Non-trainable params: 0\n",
      "_________________________________________________________________\n",
      "None\n"
     ]
    }
   ],
   "source": [
    "# Train (and val) / test split\n",
    "X_train, X_test, y_train, y_test = train_test_split(data.loc[:, ~data.columns.isin(config['target_feature'] + [\"g0\", \"g1\"])],\n",
    "                                                    data[config['target_feature']], random_state=1776,\n",
    "                                                    test_size=0.2)\n",
    "# Train / val split\n",
    "X_train, X_val, y_train, y_val = train_test_split(X_train, y_train, random_state=123, test_size=0.2)\n",
    "\n",
    "for x in X_train, X_val, X_test:\n",
    "    print(x.shape)\n",
    "\n",
    "tf.keras.backend.clear_session()\n",
    "model = tf.keras.Sequential()\n",
    "model.add(tf.keras.layers.Input(shape=1,))\n",
    "model.add(tf.keras.layers.Dense(32))\n",
    "model.add(tf.keras.layers.Dropout(0.05))\n",
    "model.add(tf.keras.layers.Dense(16))\n",
    "model.add(tf.keras.layers.Dropout(0.05))\n",
    "model.add(tf.keras.layers.Dense(16))\n",
    "model.add(tf.keras.layers.Dense(1))\n",
    "\n",
    "model.compile(optimizer='adam', loss='mse')\n",
    "\n",
    "print(model.summary())\n"
   ]
  },
  {
   "cell_type": "code",
   "execution_count": 27,
   "metadata": {},
   "outputs": [
    {
     "name": "stdout",
     "output_type": "stream",
     "text": [
      "Epoch 1/10\n",
      "80/80 [==============================] - 0s 3ms/step - loss: 11.0509 - val_loss: 0.9760\n",
      "Epoch 2/10\n",
      "80/80 [==============================] - 0s 2ms/step - loss: 1.2744 - val_loss: 0.7975\n",
      "Epoch 3/10\n",
      "80/80 [==============================] - 0s 2ms/step - loss: 1.1261 - val_loss: 0.7189\n",
      "Epoch 4/10\n",
      "80/80 [==============================] - 0s 2ms/step - loss: 1.0333 - val_loss: 0.6253\n",
      "Epoch 5/10\n",
      "80/80 [==============================] - 0s 2ms/step - loss: 0.9732 - val_loss: 0.5696\n",
      "Epoch 6/10\n",
      "80/80 [==============================] - 0s 2ms/step - loss: 0.8699 - val_loss: 0.5099\n",
      "Epoch 7/10\n",
      "80/80 [==============================] - 0s 2ms/step - loss: 0.8349 - val_loss: 0.4614\n",
      "Epoch 8/10\n",
      "80/80 [==============================] - 0s 2ms/step - loss: 0.7963 - val_loss: 0.4551\n",
      "Epoch 9/10\n",
      "80/80 [==============================] - 0s 2ms/step - loss: 0.7565 - val_loss: 0.4326\n",
      "Epoch 10/10\n",
      "80/80 [==============================] - 0s 4ms/step - loss: 0.7453 - val_loss: 0.4242\n"
     ]
    },
    {
     "data": {
      "text/plain": [
       "<tensorflow.python.keras.callbacks.History at 0x22fc5b69700>"
      ]
     },
     "execution_count": 27,
     "metadata": {},
     "output_type": "execute_result"
    }
   ],
   "source": [
    "model.fit(X_train, y_train, epochs=10, batch_size=64, validation_data=(X_val, y_val))\n",
    "\n"
   ]
  },
  {
   "cell_type": "code",
   "execution_count": 37,
   "metadata": {},
   "outputs": [
    {
     "ename": "ValueError",
     "evalue": "in user code:\n\n    c:\\users\\croberts\\appdata\\local\\programs\\python\\python38\\lib\\site-packages\\tensorflow\\python\\keras\\engine\\training.py:1147 predict_function  *\n        outputs = self.distribute_strategy.run(\n    c:\\users\\croberts\\appdata\\local\\programs\\python\\python38\\lib\\site-packages\\tensorflow\\python\\distribute\\distribute_lib.py:951 run  **\n        return self._extended.call_for_each_replica(fn, args=args, kwargs=kwargs)\n    c:\\users\\croberts\\appdata\\local\\programs\\python\\python38\\lib\\site-packages\\tensorflow\\python\\distribute\\distribute_lib.py:2290 call_for_each_replica\n        return self._call_for_each_replica(fn, args, kwargs)\n    c:\\users\\croberts\\appdata\\local\\programs\\python\\python38\\lib\\site-packages\\tensorflow\\python\\distribute\\distribute_lib.py:2649 _call_for_each_replica\n        return fn(*args, **kwargs)\n    c:\\users\\croberts\\appdata\\local\\programs\\python\\python38\\lib\\site-packages\\tensorflow\\python\\keras\\engine\\training.py:1122 predict_step  **\n        return self(x, training=False)\n    c:\\users\\croberts\\appdata\\local\\programs\\python\\python38\\lib\\site-packages\\tensorflow\\python\\keras\\engine\\base_layer.py:885 __call__\n        input_spec.assert_input_compatibility(self.input_spec, inputs,\n    c:\\users\\croberts\\appdata\\local\\programs\\python\\python38\\lib\\site-packages\\tensorflow\\python\\keras\\engine\\input_spec.py:212 assert_input_compatibility\n        raise ValueError(\n\n    ValueError: Input 0 of layer sequential is incompatible with the layer: expected axis -1 of input shape to have value 1 but received input with shape [None, 3]\n",
     "output_type": "error",
     "traceback": [
      "\u001b[1;31m---------------------------------------------------------------------------\u001b[0m",
      "\u001b[1;31mValueError\u001b[0m                                Traceback (most recent call last)",
      "\u001b[1;32m<ipython-input-37-88f26a358dc0>\u001b[0m in \u001b[0;36m<module>\u001b[1;34m\u001b[0m\n\u001b[0;32m     23\u001b[0m \u001b[1;33m\u001b[0m\u001b[0m\n\u001b[0;32m     24\u001b[0m \u001b[0mX_hypotheticals__to_draw_line\u001b[0m \u001b[1;33m=\u001b[0m \u001b[0mpd\u001b[0m\u001b[1;33m.\u001b[0m\u001b[0mDataFrame\u001b[0m\u001b[1;33m(\u001b[0m\u001b[1;33m{\u001b[0m\u001b[1;34m\"g0\"\u001b[0m\u001b[1;33m:\u001b[0m \u001b[0mcounterfactual_g0_arr\u001b[0m\u001b[1;33m,\u001b[0m \u001b[1;34m\"g1\"\u001b[0m\u001b[1;33m:\u001b[0m \u001b[0mcounterfactual_g1_arr\u001b[0m\u001b[1;33m,\u001b[0m \u001b[1;34m\"w\"\u001b[0m\u001b[1;33m:\u001b[0m \u001b[0mw_space\u001b[0m\u001b[1;33m}\u001b[0m\u001b[1;33m)\u001b[0m\u001b[1;33m\u001b[0m\u001b[1;33m\u001b[0m\u001b[0m\n\u001b[1;32m---> 25\u001b[1;33m \u001b[0my_hypothetical\u001b[0m \u001b[1;33m=\u001b[0m \u001b[0mmodel\u001b[0m\u001b[1;33m.\u001b[0m\u001b[0mpredict\u001b[0m\u001b[1;33m(\u001b[0m\u001b[0mX_hypotheticals__to_draw_line\u001b[0m\u001b[1;33m)\u001b[0m\u001b[1;33m\u001b[0m\u001b[1;33m\u001b[0m\u001b[0m\n\u001b[0m\u001b[0;32m     26\u001b[0m \u001b[0maxs\u001b[0m\u001b[1;33m.\u001b[0m\u001b[0mplot\u001b[0m\u001b[1;33m(\u001b[0m\u001b[0mX_hypotheticals__to_draw_line\u001b[0m\u001b[1;33m.\u001b[0m\u001b[0mloc\u001b[0m\u001b[1;33m[\u001b[0m\u001b[1;33m:\u001b[0m\u001b[1;33m,\u001b[0m\u001b[1;34m\"w\"\u001b[0m\u001b[1;33m]\u001b[0m\u001b[1;33m,\u001b[0m \u001b[0my_hypothetical\u001b[0m\u001b[1;33m,\u001b[0m \u001b[0mcolor\u001b[0m\u001b[1;33m=\u001b[0m\u001b[1;34m\"orange\"\u001b[0m\u001b[1;33m)\u001b[0m\u001b[1;33m\u001b[0m\u001b[1;33m\u001b[0m\u001b[0m\n\u001b[0;32m     27\u001b[0m \u001b[0mfig\u001b[0m\u001b[1;33m\u001b[0m\u001b[1;33m\u001b[0m\u001b[0m\n",
      "\u001b[1;32mc:\\users\\croberts\\appdata\\local\\programs\\python\\python38\\lib\\site-packages\\tensorflow\\python\\keras\\engine\\training.py\u001b[0m in \u001b[0;36m_method_wrapper\u001b[1;34m(self, *args, **kwargs)\u001b[0m\n\u001b[0;32m     86\u001b[0m       raise ValueError('{} is not supported in multi-worker mode.'.format(\n\u001b[0;32m     87\u001b[0m           method.__name__))\n\u001b[1;32m---> 88\u001b[1;33m     \u001b[1;32mreturn\u001b[0m \u001b[0mmethod\u001b[0m\u001b[1;33m(\u001b[0m\u001b[0mself\u001b[0m\u001b[1;33m,\u001b[0m \u001b[1;33m*\u001b[0m\u001b[0margs\u001b[0m\u001b[1;33m,\u001b[0m \u001b[1;33m**\u001b[0m\u001b[0mkwargs\u001b[0m\u001b[1;33m)\u001b[0m\u001b[1;33m\u001b[0m\u001b[1;33m\u001b[0m\u001b[0m\n\u001b[0m\u001b[0;32m     89\u001b[0m \u001b[1;33m\u001b[0m\u001b[0m\n\u001b[0;32m     90\u001b[0m   return tf_decorator.make_decorator(\n",
      "\u001b[1;32mc:\\users\\croberts\\appdata\\local\\programs\\python\\python38\\lib\\site-packages\\tensorflow\\python\\keras\\engine\\training.py\u001b[0m in \u001b[0;36mpredict\u001b[1;34m(self, x, batch_size, verbose, steps, callbacks, max_queue_size, workers, use_multiprocessing)\u001b[0m\n\u001b[0;32m   1266\u001b[0m           \u001b[1;32mfor\u001b[0m \u001b[0mstep\u001b[0m \u001b[1;32min\u001b[0m \u001b[0mdata_handler\u001b[0m\u001b[1;33m.\u001b[0m\u001b[0msteps\u001b[0m\u001b[1;33m(\u001b[0m\u001b[1;33m)\u001b[0m\u001b[1;33m:\u001b[0m\u001b[1;33m\u001b[0m\u001b[1;33m\u001b[0m\u001b[0m\n\u001b[0;32m   1267\u001b[0m             \u001b[0mcallbacks\u001b[0m\u001b[1;33m.\u001b[0m\u001b[0mon_predict_batch_begin\u001b[0m\u001b[1;33m(\u001b[0m\u001b[0mstep\u001b[0m\u001b[1;33m)\u001b[0m\u001b[1;33m\u001b[0m\u001b[1;33m\u001b[0m\u001b[0m\n\u001b[1;32m-> 1268\u001b[1;33m             \u001b[0mtmp_batch_outputs\u001b[0m \u001b[1;33m=\u001b[0m \u001b[0mpredict_function\u001b[0m\u001b[1;33m(\u001b[0m\u001b[0miterator\u001b[0m\u001b[1;33m)\u001b[0m\u001b[1;33m\u001b[0m\u001b[1;33m\u001b[0m\u001b[0m\n\u001b[0m\u001b[0;32m   1269\u001b[0m             \u001b[1;31m# Catch OutOfRangeError for Datasets of unknown size.\u001b[0m\u001b[1;33m\u001b[0m\u001b[1;33m\u001b[0m\u001b[1;33m\u001b[0m\u001b[0m\n\u001b[0;32m   1270\u001b[0m             \u001b[1;31m# This blocks until the batch has finished executing.\u001b[0m\u001b[1;33m\u001b[0m\u001b[1;33m\u001b[0m\u001b[1;33m\u001b[0m\u001b[0m\n",
      "\u001b[1;32mc:\\users\\croberts\\appdata\\local\\programs\\python\\python38\\lib\\site-packages\\tensorflow\\python\\eager\\def_function.py\u001b[0m in \u001b[0;36m__call__\u001b[1;34m(self, *args, **kwds)\u001b[0m\n\u001b[0;32m    578\u001b[0m         \u001b[0mxla_context\u001b[0m\u001b[1;33m.\u001b[0m\u001b[0mExit\u001b[0m\u001b[1;33m(\u001b[0m\u001b[1;33m)\u001b[0m\u001b[1;33m\u001b[0m\u001b[1;33m\u001b[0m\u001b[0m\n\u001b[0;32m    579\u001b[0m     \u001b[1;32melse\u001b[0m\u001b[1;33m:\u001b[0m\u001b[1;33m\u001b[0m\u001b[1;33m\u001b[0m\u001b[0m\n\u001b[1;32m--> 580\u001b[1;33m       \u001b[0mresult\u001b[0m \u001b[1;33m=\u001b[0m \u001b[0mself\u001b[0m\u001b[1;33m.\u001b[0m\u001b[0m_call\u001b[0m\u001b[1;33m(\u001b[0m\u001b[1;33m*\u001b[0m\u001b[0margs\u001b[0m\u001b[1;33m,\u001b[0m \u001b[1;33m**\u001b[0m\u001b[0mkwds\u001b[0m\u001b[1;33m)\u001b[0m\u001b[1;33m\u001b[0m\u001b[1;33m\u001b[0m\u001b[0m\n\u001b[0m\u001b[0;32m    581\u001b[0m \u001b[1;33m\u001b[0m\u001b[0m\n\u001b[0;32m    582\u001b[0m     \u001b[1;32mif\u001b[0m \u001b[0mtracing_count\u001b[0m \u001b[1;33m==\u001b[0m \u001b[0mself\u001b[0m\u001b[1;33m.\u001b[0m\u001b[0m_get_tracing_count\u001b[0m\u001b[1;33m(\u001b[0m\u001b[1;33m)\u001b[0m\u001b[1;33m:\u001b[0m\u001b[1;33m\u001b[0m\u001b[1;33m\u001b[0m\u001b[0m\n",
      "\u001b[1;32mc:\\users\\croberts\\appdata\\local\\programs\\python\\python38\\lib\\site-packages\\tensorflow\\python\\eager\\def_function.py\u001b[0m in \u001b[0;36m_call\u001b[1;34m(self, *args, **kwds)\u001b[0m\n\u001b[0;32m    616\u001b[0m       \u001b[1;31m# In this case we have not created variables on the first call. So we can\u001b[0m\u001b[1;33m\u001b[0m\u001b[1;33m\u001b[0m\u001b[1;33m\u001b[0m\u001b[0m\n\u001b[0;32m    617\u001b[0m       \u001b[1;31m# run the first trace but we should fail if variables are created.\u001b[0m\u001b[1;33m\u001b[0m\u001b[1;33m\u001b[0m\u001b[1;33m\u001b[0m\u001b[0m\n\u001b[1;32m--> 618\u001b[1;33m       \u001b[0mresults\u001b[0m \u001b[1;33m=\u001b[0m \u001b[0mself\u001b[0m\u001b[1;33m.\u001b[0m\u001b[0m_stateful_fn\u001b[0m\u001b[1;33m(\u001b[0m\u001b[1;33m*\u001b[0m\u001b[0margs\u001b[0m\u001b[1;33m,\u001b[0m \u001b[1;33m**\u001b[0m\u001b[0mkwds\u001b[0m\u001b[1;33m)\u001b[0m\u001b[1;33m\u001b[0m\u001b[1;33m\u001b[0m\u001b[0m\n\u001b[0m\u001b[0;32m    619\u001b[0m       \u001b[1;32mif\u001b[0m \u001b[0mself\u001b[0m\u001b[1;33m.\u001b[0m\u001b[0m_created_variables\u001b[0m\u001b[1;33m:\u001b[0m\u001b[1;33m\u001b[0m\u001b[1;33m\u001b[0m\u001b[0m\n\u001b[0;32m    620\u001b[0m         raise ValueError(\"Creating variables on a non-first call to a function\"\n",
      "\u001b[1;32mc:\\users\\croberts\\appdata\\local\\programs\\python\\python38\\lib\\site-packages\\tensorflow\\python\\eager\\function.py\u001b[0m in \u001b[0;36m__call__\u001b[1;34m(self, *args, **kwargs)\u001b[0m\n\u001b[0;32m   2417\u001b[0m     \u001b[1;34m\"\"\"Calls a graph function specialized to the inputs.\"\"\"\u001b[0m\u001b[1;33m\u001b[0m\u001b[1;33m\u001b[0m\u001b[0m\n\u001b[0;32m   2418\u001b[0m     \u001b[1;32mwith\u001b[0m \u001b[0mself\u001b[0m\u001b[1;33m.\u001b[0m\u001b[0m_lock\u001b[0m\u001b[1;33m:\u001b[0m\u001b[1;33m\u001b[0m\u001b[1;33m\u001b[0m\u001b[0m\n\u001b[1;32m-> 2419\u001b[1;33m       \u001b[0mgraph_function\u001b[0m\u001b[1;33m,\u001b[0m \u001b[0margs\u001b[0m\u001b[1;33m,\u001b[0m \u001b[0mkwargs\u001b[0m \u001b[1;33m=\u001b[0m \u001b[0mself\u001b[0m\u001b[1;33m.\u001b[0m\u001b[0m_maybe_define_function\u001b[0m\u001b[1;33m(\u001b[0m\u001b[0margs\u001b[0m\u001b[1;33m,\u001b[0m \u001b[0mkwargs\u001b[0m\u001b[1;33m)\u001b[0m\u001b[1;33m\u001b[0m\u001b[1;33m\u001b[0m\u001b[0m\n\u001b[0m\u001b[0;32m   2420\u001b[0m     \u001b[1;32mreturn\u001b[0m \u001b[0mgraph_function\u001b[0m\u001b[1;33m.\u001b[0m\u001b[0m_filtered_call\u001b[0m\u001b[1;33m(\u001b[0m\u001b[0margs\u001b[0m\u001b[1;33m,\u001b[0m \u001b[0mkwargs\u001b[0m\u001b[1;33m)\u001b[0m  \u001b[1;31m# pylint: disable=protected-access\u001b[0m\u001b[1;33m\u001b[0m\u001b[1;33m\u001b[0m\u001b[0m\n\u001b[0;32m   2421\u001b[0m \u001b[1;33m\u001b[0m\u001b[0m\n",
      "\u001b[1;32mc:\\users\\croberts\\appdata\\local\\programs\\python\\python38\\lib\\site-packages\\tensorflow\\python\\eager\\function.py\u001b[0m in \u001b[0;36m_maybe_define_function\u001b[1;34m(self, args, kwargs)\u001b[0m\n\u001b[0;32m   2772\u001b[0m           \u001b[1;32mand\u001b[0m \u001b[0mself\u001b[0m\u001b[1;33m.\u001b[0m\u001b[0minput_signature\u001b[0m \u001b[1;32mis\u001b[0m \u001b[1;32mNone\u001b[0m\u001b[1;33m\u001b[0m\u001b[1;33m\u001b[0m\u001b[0m\n\u001b[0;32m   2773\u001b[0m           and call_context_key in self._function_cache.missed):\n\u001b[1;32m-> 2774\u001b[1;33m         \u001b[1;32mreturn\u001b[0m \u001b[0mself\u001b[0m\u001b[1;33m.\u001b[0m\u001b[0m_define_function_with_shape_relaxation\u001b[0m\u001b[1;33m(\u001b[0m\u001b[0margs\u001b[0m\u001b[1;33m,\u001b[0m \u001b[0mkwargs\u001b[0m\u001b[1;33m)\u001b[0m\u001b[1;33m\u001b[0m\u001b[1;33m\u001b[0m\u001b[0m\n\u001b[0m\u001b[0;32m   2775\u001b[0m \u001b[1;33m\u001b[0m\u001b[0m\n\u001b[0;32m   2776\u001b[0m       \u001b[0mself\u001b[0m\u001b[1;33m.\u001b[0m\u001b[0m_function_cache\u001b[0m\u001b[1;33m.\u001b[0m\u001b[0mmissed\u001b[0m\u001b[1;33m.\u001b[0m\u001b[0madd\u001b[0m\u001b[1;33m(\u001b[0m\u001b[0mcall_context_key\u001b[0m\u001b[1;33m)\u001b[0m\u001b[1;33m\u001b[0m\u001b[1;33m\u001b[0m\u001b[0m\n",
      "\u001b[1;32mc:\\users\\croberts\\appdata\\local\\programs\\python\\python38\\lib\\site-packages\\tensorflow\\python\\eager\\function.py\u001b[0m in \u001b[0;36m_define_function_with_shape_relaxation\u001b[1;34m(self, args, kwargs)\u001b[0m\n\u001b[0;32m   2703\u001b[0m     self._function_cache.arg_relaxed_shapes[rank_only_cache_key] = (\n\u001b[0;32m   2704\u001b[0m         relaxed_arg_shapes)\n\u001b[1;32m-> 2705\u001b[1;33m     graph_function = self._create_graph_function(\n\u001b[0m\u001b[0;32m   2706\u001b[0m         args, kwargs, override_flat_arg_shapes=relaxed_arg_shapes)\n\u001b[0;32m   2707\u001b[0m     \u001b[0mself\u001b[0m\u001b[1;33m.\u001b[0m\u001b[0m_function_cache\u001b[0m\u001b[1;33m.\u001b[0m\u001b[0marg_relaxed\u001b[0m\u001b[1;33m[\u001b[0m\u001b[0mrank_only_cache_key\u001b[0m\u001b[1;33m]\u001b[0m \u001b[1;33m=\u001b[0m \u001b[0mgraph_function\u001b[0m\u001b[1;33m\u001b[0m\u001b[1;33m\u001b[0m\u001b[0m\n",
      "\u001b[1;32mc:\\users\\croberts\\appdata\\local\\programs\\python\\python38\\lib\\site-packages\\tensorflow\\python\\eager\\function.py\u001b[0m in \u001b[0;36m_create_graph_function\u001b[1;34m(self, args, kwargs, override_flat_arg_shapes)\u001b[0m\n\u001b[0;32m   2655\u001b[0m     \u001b[0marg_names\u001b[0m \u001b[1;33m=\u001b[0m \u001b[0mbase_arg_names\u001b[0m \u001b[1;33m+\u001b[0m \u001b[0mmissing_arg_names\u001b[0m\u001b[1;33m\u001b[0m\u001b[1;33m\u001b[0m\u001b[0m\n\u001b[0;32m   2656\u001b[0m     graph_function = ConcreteFunction(\n\u001b[1;32m-> 2657\u001b[1;33m         func_graph_module.func_graph_from_py_func(\n\u001b[0m\u001b[0;32m   2658\u001b[0m             \u001b[0mself\u001b[0m\u001b[1;33m.\u001b[0m\u001b[0m_name\u001b[0m\u001b[1;33m,\u001b[0m\u001b[1;33m\u001b[0m\u001b[1;33m\u001b[0m\u001b[0m\n\u001b[0;32m   2659\u001b[0m             \u001b[0mself\u001b[0m\u001b[1;33m.\u001b[0m\u001b[0m_python_function\u001b[0m\u001b[1;33m,\u001b[0m\u001b[1;33m\u001b[0m\u001b[1;33m\u001b[0m\u001b[0m\n",
      "\u001b[1;32mc:\\users\\croberts\\appdata\\local\\programs\\python\\python38\\lib\\site-packages\\tensorflow\\python\\framework\\func_graph.py\u001b[0m in \u001b[0;36mfunc_graph_from_py_func\u001b[1;34m(name, python_func, args, kwargs, signature, func_graph, autograph, autograph_options, add_control_dependencies, arg_names, op_return_value, collections, capture_by_value, override_flat_arg_shapes)\u001b[0m\n\u001b[0;32m    979\u001b[0m         \u001b[0m_\u001b[0m\u001b[1;33m,\u001b[0m \u001b[0moriginal_func\u001b[0m \u001b[1;33m=\u001b[0m \u001b[0mtf_decorator\u001b[0m\u001b[1;33m.\u001b[0m\u001b[0munwrap\u001b[0m\u001b[1;33m(\u001b[0m\u001b[0mpython_func\u001b[0m\u001b[1;33m)\u001b[0m\u001b[1;33m\u001b[0m\u001b[1;33m\u001b[0m\u001b[0m\n\u001b[0;32m    980\u001b[0m \u001b[1;33m\u001b[0m\u001b[0m\n\u001b[1;32m--> 981\u001b[1;33m       \u001b[0mfunc_outputs\u001b[0m \u001b[1;33m=\u001b[0m \u001b[0mpython_func\u001b[0m\u001b[1;33m(\u001b[0m\u001b[1;33m*\u001b[0m\u001b[0mfunc_args\u001b[0m\u001b[1;33m,\u001b[0m \u001b[1;33m**\u001b[0m\u001b[0mfunc_kwargs\u001b[0m\u001b[1;33m)\u001b[0m\u001b[1;33m\u001b[0m\u001b[1;33m\u001b[0m\u001b[0m\n\u001b[0m\u001b[0;32m    982\u001b[0m \u001b[1;33m\u001b[0m\u001b[0m\n\u001b[0;32m    983\u001b[0m       \u001b[1;31m# invariant: `func_outputs` contains only Tensors, CompositeTensors,\u001b[0m\u001b[1;33m\u001b[0m\u001b[1;33m\u001b[0m\u001b[1;33m\u001b[0m\u001b[0m\n",
      "\u001b[1;32mc:\\users\\croberts\\appdata\\local\\programs\\python\\python38\\lib\\site-packages\\tensorflow\\python\\eager\\def_function.py\u001b[0m in \u001b[0;36mwrapped_fn\u001b[1;34m(*args, **kwds)\u001b[0m\n\u001b[0;32m    439\u001b[0m         \u001b[1;31m# __wrapped__ allows AutoGraph to swap in a converted function. We give\u001b[0m\u001b[1;33m\u001b[0m\u001b[1;33m\u001b[0m\u001b[1;33m\u001b[0m\u001b[0m\n\u001b[0;32m    440\u001b[0m         \u001b[1;31m# the function a weak reference to itself to avoid a reference cycle.\u001b[0m\u001b[1;33m\u001b[0m\u001b[1;33m\u001b[0m\u001b[1;33m\u001b[0m\u001b[0m\n\u001b[1;32m--> 441\u001b[1;33m         \u001b[1;32mreturn\u001b[0m \u001b[0mweak_wrapped_fn\u001b[0m\u001b[1;33m(\u001b[0m\u001b[1;33m)\u001b[0m\u001b[1;33m.\u001b[0m\u001b[0m__wrapped__\u001b[0m\u001b[1;33m(\u001b[0m\u001b[1;33m*\u001b[0m\u001b[0margs\u001b[0m\u001b[1;33m,\u001b[0m \u001b[1;33m**\u001b[0m\u001b[0mkwds\u001b[0m\u001b[1;33m)\u001b[0m\u001b[1;33m\u001b[0m\u001b[1;33m\u001b[0m\u001b[0m\n\u001b[0m\u001b[0;32m    442\u001b[0m     \u001b[0mweak_wrapped_fn\u001b[0m \u001b[1;33m=\u001b[0m \u001b[0mweakref\u001b[0m\u001b[1;33m.\u001b[0m\u001b[0mref\u001b[0m\u001b[1;33m(\u001b[0m\u001b[0mwrapped_fn\u001b[0m\u001b[1;33m)\u001b[0m\u001b[1;33m\u001b[0m\u001b[1;33m\u001b[0m\u001b[0m\n\u001b[0;32m    443\u001b[0m \u001b[1;33m\u001b[0m\u001b[0m\n",
      "\u001b[1;32mc:\\users\\croberts\\appdata\\local\\programs\\python\\python38\\lib\\site-packages\\tensorflow\\python\\framework\\func_graph.py\u001b[0m in \u001b[0;36mwrapper\u001b[1;34m(*args, **kwargs)\u001b[0m\n\u001b[0;32m    966\u001b[0m           \u001b[1;32mexcept\u001b[0m \u001b[0mException\u001b[0m \u001b[1;32mas\u001b[0m \u001b[0me\u001b[0m\u001b[1;33m:\u001b[0m  \u001b[1;31m# pylint:disable=broad-except\u001b[0m\u001b[1;33m\u001b[0m\u001b[1;33m\u001b[0m\u001b[0m\n\u001b[0;32m    967\u001b[0m             \u001b[1;32mif\u001b[0m \u001b[0mhasattr\u001b[0m\u001b[1;33m(\u001b[0m\u001b[0me\u001b[0m\u001b[1;33m,\u001b[0m \u001b[1;34m\"ag_error_metadata\"\u001b[0m\u001b[1;33m)\u001b[0m\u001b[1;33m:\u001b[0m\u001b[1;33m\u001b[0m\u001b[1;33m\u001b[0m\u001b[0m\n\u001b[1;32m--> 968\u001b[1;33m               \u001b[1;32mraise\u001b[0m \u001b[0me\u001b[0m\u001b[1;33m.\u001b[0m\u001b[0mag_error_metadata\u001b[0m\u001b[1;33m.\u001b[0m\u001b[0mto_exception\u001b[0m\u001b[1;33m(\u001b[0m\u001b[0me\u001b[0m\u001b[1;33m)\u001b[0m\u001b[1;33m\u001b[0m\u001b[1;33m\u001b[0m\u001b[0m\n\u001b[0m\u001b[0;32m    969\u001b[0m             \u001b[1;32melse\u001b[0m\u001b[1;33m:\u001b[0m\u001b[1;33m\u001b[0m\u001b[1;33m\u001b[0m\u001b[0m\n\u001b[0;32m    970\u001b[0m               \u001b[1;32mraise\u001b[0m\u001b[1;33m\u001b[0m\u001b[1;33m\u001b[0m\u001b[0m\n",
      "\u001b[1;31mValueError\u001b[0m: in user code:\n\n    c:\\users\\croberts\\appdata\\local\\programs\\python\\python38\\lib\\site-packages\\tensorflow\\python\\keras\\engine\\training.py:1147 predict_function  *\n        outputs = self.distribute_strategy.run(\n    c:\\users\\croberts\\appdata\\local\\programs\\python\\python38\\lib\\site-packages\\tensorflow\\python\\distribute\\distribute_lib.py:951 run  **\n        return self._extended.call_for_each_replica(fn, args=args, kwargs=kwargs)\n    c:\\users\\croberts\\appdata\\local\\programs\\python\\python38\\lib\\site-packages\\tensorflow\\python\\distribute\\distribute_lib.py:2290 call_for_each_replica\n        return self._call_for_each_replica(fn, args, kwargs)\n    c:\\users\\croberts\\appdata\\local\\programs\\python\\python38\\lib\\site-packages\\tensorflow\\python\\distribute\\distribute_lib.py:2649 _call_for_each_replica\n        return fn(*args, **kwargs)\n    c:\\users\\croberts\\appdata\\local\\programs\\python\\python38\\lib\\site-packages\\tensorflow\\python\\keras\\engine\\training.py:1122 predict_step  **\n        return self(x, training=False)\n    c:\\users\\croberts\\appdata\\local\\programs\\python\\python38\\lib\\site-packages\\tensorflow\\python\\keras\\engine\\base_layer.py:885 __call__\n        input_spec.assert_input_compatibility(self.input_spec, inputs,\n    c:\\users\\croberts\\appdata\\local\\programs\\python\\python38\\lib\\site-packages\\tensorflow\\python\\keras\\engine\\input_spec.py:212 assert_input_compatibility\n        raise ValueError(\n\n    ValueError: Input 0 of layer sequential is incompatible with the layer: expected axis -1 of input shape to have value 1 but received input with shape [None, 3]\n"
     ]
    }
   ],
   "source": [
    "\n",
    "X_test_pseudo = X_test.copy()\n",
    "#w_mean = (gamma[1,0] + gamma[1,1])/2\n",
    "#X_test_pseudo.loc[:,\"w\"] = X_test.loc[:, \"w\"] * 0 + w_mean\n",
    "y_test_hat__no_G = model.predict(X_test)\n",
    "w_test = X_test.loc[:, \"w\"]\n",
    "\n",
    "\n",
    "\n",
    "y_train_hat__no_G = model.predict(X_train)\n",
    "w_train = X_train.loc[:, \"w\"]\n",
    "\n",
    "#fig, axs = plt.subplots(ncols=1)\n",
    "#axs.plot(w0_space, y_fitted_w0_c0, color = \"blue\")\n",
    "#axs.plot(w0_space, y_fitted_w0_c1, color = \"red\")\n",
    "\n",
    "axs.scatter(w_test, y_test_hat__no_G,\n",
    "            color = \"purple\", marker= '.', label='prediction: class omited', s=.2)\n",
    "\n",
    "g1_membership_rate = 0.5\n",
    "counterfactual_g1_arr = np.repeat(g1_membership_rate, np.size(w_space))\n",
    "counterfactual_g0_arr = np.repeat(1 - g1_membership_rate, np.size(w_space))\n",
    "\n",
    "X_hypotheticals__to_draw_line = pd.DataFrame({\"g0\": counterfactual_g0_arr, \"g1\": counterfactual_g1_arr, \"w\": w_space})\n",
    "y_hypothetical = model.predict(X_hypotheticals__to_draw_line)\n",
    "axs.plot(X_hypotheticals__to_draw_line.loc[:,\"w\"], y_hypothetical, color=\"orange\")\n",
    "fig"
   ]
  },
  {
   "cell_type": "code",
   "execution_count": 40,
   "metadata": {},
   "outputs": [
    {
     "data": {
      "text/plain": [
       "array([0.        , 0.26315789, 0.52631579, 0.78947368, 1.05263158,\n",
       "       1.31578947, 1.57894737, 1.84210526, 2.10526316, 2.36842105,\n",
       "       2.63157895, 2.89473684, 3.15789474, 3.42105263, 3.68421053,\n",
       "       3.94736842, 4.21052632, 4.47368421, 4.73684211, 5.        ])"
      ]
     },
     "execution_count": 40,
     "metadata": {},
     "output_type": "execute_result"
    }
   ],
   "source": []
  },
  {
   "cell_type": "markdown",
   "metadata": {},
   "source": [
    "#### What is the discrimination-mitigated prediction? "
   ]
  },
  {
   "cell_type": "code",
   "execution_count": 30,
   "metadata": {},
   "outputs": [
    {
     "name": "stdout",
     "output_type": "stream",
     "text": [
      "(5120, 4)\n",
      "(1280, 4)\n",
      "(1600, 4)\n",
      "Model: \"sequential\"\n",
      "_________________________________________________________________\n",
      "Layer (type)                 Output Shape              Param #   \n",
      "=================================================================\n",
      "dense (Dense)                (None, 32)                160       \n",
      "_________________________________________________________________\n",
      "dropout (Dropout)            (None, 32)                0         \n",
      "_________________________________________________________________\n",
      "dense_1 (Dense)              (None, 16)                528       \n",
      "_________________________________________________________________\n",
      "dropout_1 (Dropout)          (None, 16)                0         \n",
      "_________________________________________________________________\n",
      "dense_2 (Dense)              (None, 16)                272       \n",
      "_________________________________________________________________\n",
      "dense_3 (Dense)              (None, 1)                 17        \n",
      "=================================================================\n",
      "Total params: 977\n",
      "Trainable params: 977\n",
      "Non-trainable params: 0\n",
      "_________________________________________________________________\n",
      "None\n"
     ]
    }
   ],
   "source": [
    "# Train (and val) / test split\n",
    "X_train, X_test, y_train, y_test = train_test_split(synth.loc[:, ~synth.columns.isin(config['target_feature'])],\n",
    "                                                    synth[config['target_feature']], random_state=1776,\n",
    "                                                    test_size=0.2)\n",
    "# Train / val split\n",
    "X_train, X_val, y_train, y_val = train_test_split(X_train, y_train, random_state=123, test_size=0.2)\n",
    "\n",
    "for x in X_train, X_val, X_test:\n",
    "    print(x.shape)\n",
    "\n",
    "tf.keras.backend.clear_session()\n",
    "model = tf.keras.Sequential()\n",
    "model.add(tf.keras.layers.Input(shape=4,))\n",
    "model.add(tf.keras.layers.Dense(32))\n",
    "model.add(tf.keras.layers.Dropout(0.05))\n",
    "model.add(tf.keras.layers.Dense(16))\n",
    "model.add(tf.keras.layers.Dropout(0.05))\n",
    "model.add(tf.keras.layers.Dense(16))\n",
    "model.add(tf.keras.layers.Dense(1))\n",
    "\n",
    "model.compile(optimizer='adam', loss='mse')\n",
    "\n",
    "print(model.summary())"
   ]
  },
  {
   "cell_type": "code",
   "execution_count": 31,
   "metadata": {},
   "outputs": [
    {
     "name": "stdout",
     "output_type": "stream",
     "text": [
      "Epoch 1/10\n",
      "80/80 [==============================] - 0s 4ms/step - loss: 13.5908 - val_loss: 0.6775\n",
      "Epoch 2/10\n",
      "80/80 [==============================] - 0s 2ms/step - loss: 0.9489 - val_loss: 0.1236\n",
      "Epoch 3/10\n",
      "80/80 [==============================] - 0s 2ms/step - loss: 0.7452 - val_loss: 0.1027\n",
      "Epoch 4/10\n",
      "80/80 [==============================] - 0s 2ms/step - loss: 0.7022 - val_loss: 0.1005\n",
      "Epoch 5/10\n",
      "80/80 [==============================] - 0s 2ms/step - loss: 0.6644 - val_loss: 0.1127\n",
      "Epoch 6/10\n",
      "80/80 [==============================] - 0s 2ms/step - loss: 0.6697 - val_loss: 0.1127\n",
      "Epoch 7/10\n",
      "80/80 [==============================] - 0s 2ms/step - loss: 0.5852 - val_loss: 0.1047\n",
      "Epoch 8/10\n",
      "80/80 [==============================] - 0s 2ms/step - loss: 0.5848 - val_loss: 0.0979\n",
      "Epoch 9/10\n",
      "80/80 [==============================] - 0s 3ms/step - loss: 0.5626 - val_loss: 0.0971\n",
      "Epoch 10/10\n",
      "80/80 [==============================] - 0s 2ms/step - loss: 0.5093 - val_loss: 0.1177\n"
     ]
    },
    {
     "data": {
      "text/plain": [
       "<tensorflow.python.keras.callbacks.History at 0x235921639a0>"
      ]
     },
     "execution_count": 31,
     "metadata": {},
     "output_type": "execute_result"
    }
   ],
   "source": [
    "model.fit(X_train, y_train, epochs=10, batch_size=64, validation_data=(X_val, y_val))"
   ]
  },
  {
   "cell_type": "code",
   "execution_count": 1,
   "metadata": {},
   "outputs": [
    {
     "ename": "NameError",
     "evalue": "name 'X_test' is not defined",
     "output_type": "error",
     "traceback": [
      "\u001b[1;31m---------------------------------------------------------------------------\u001b[0m",
      "\u001b[1;31mNameError\u001b[0m                                 Traceback (most recent call last)",
      "\u001b[1;32m<ipython-input-1-912e154f9c89>\u001b[0m in \u001b[0;36m<module>\u001b[1;34m\u001b[0m\n\u001b[1;32m----> 1\u001b[1;33m \u001b[0mX_test_pseudo\u001b[0m \u001b[1;33m=\u001b[0m \u001b[0mX_test\u001b[0m\u001b[1;33m.\u001b[0m\u001b[0mcopy\u001b[0m\u001b[1;33m(\u001b[0m\u001b[1;33m)\u001b[0m\u001b[1;33m\u001b[0m\u001b[1;33m\u001b[0m\u001b[0m\n\u001b[0m\u001b[0;32m      2\u001b[0m \u001b[0mw1_mean\u001b[0m \u001b[1;33m=\u001b[0m \u001b[1;33m(\u001b[0m\u001b[0mgamma\u001b[0m\u001b[1;33m[\u001b[0m\u001b[1;36m1\u001b[0m\u001b[1;33m,\u001b[0m\u001b[1;36m0\u001b[0m\u001b[1;33m]\u001b[0m \u001b[1;33m+\u001b[0m \u001b[0mgamma\u001b[0m\u001b[1;33m[\u001b[0m\u001b[1;36m1\u001b[0m\u001b[1;33m,\u001b[0m\u001b[1;36m1\u001b[0m\u001b[1;33m]\u001b[0m\u001b[1;33m)\u001b[0m\u001b[1;33m/\u001b[0m\u001b[1;36m2\u001b[0m\u001b[1;33m\u001b[0m\u001b[1;33m\u001b[0m\u001b[0m\n\u001b[0;32m      3\u001b[0m \u001b[0mX_test_pseudo\u001b[0m\u001b[1;33m.\u001b[0m\u001b[0mloc\u001b[0m\u001b[1;33m[\u001b[0m\u001b[1;33m:\u001b[0m\u001b[1;33m,\u001b[0m\u001b[1;34m\"w1\"\u001b[0m\u001b[1;33m]\u001b[0m \u001b[1;33m=\u001b[0m \u001b[0mX_test\u001b[0m\u001b[1;33m.\u001b[0m\u001b[0mloc\u001b[0m\u001b[1;33m[\u001b[0m\u001b[1;33m:\u001b[0m\u001b[1;33m,\u001b[0m \u001b[1;34m\"w1\"\u001b[0m\u001b[1;33m]\u001b[0m \u001b[1;33m*\u001b[0m \u001b[1;36m0\u001b[0m \u001b[1;33m+\u001b[0m \u001b[0mw1_mean\u001b[0m\u001b[1;33m\u001b[0m\u001b[1;33m\u001b[0m\u001b[0m\n\u001b[0;32m      4\u001b[0m \u001b[0my_test_hat__no_C\u001b[0m \u001b[1;33m=\u001b[0m \u001b[0mmodel\u001b[0m\u001b[1;33m.\u001b[0m\u001b[0mpredict\u001b[0m\u001b[1;33m(\u001b[0m\u001b[0mX_test\u001b[0m\u001b[1;33m)\u001b[0m\u001b[1;33m\u001b[0m\u001b[1;33m\u001b[0m\u001b[0m\n\u001b[0;32m      5\u001b[0m \u001b[0mw0_test\u001b[0m \u001b[1;33m=\u001b[0m \u001b[0mX_test\u001b[0m\u001b[1;33m.\u001b[0m\u001b[0mloc\u001b[0m\u001b[1;33m[\u001b[0m\u001b[1;33m:\u001b[0m\u001b[1;33m,\u001b[0m \u001b[1;34m\"w0\"\u001b[0m\u001b[1;33m]\u001b[0m\u001b[1;33m\u001b[0m\u001b[1;33m\u001b[0m\u001b[0m\n",
      "\u001b[1;31mNameError\u001b[0m: name 'X_test' is not defined"
     ]
    }
   ],
   "source": [
    "X_test_pseudo = X_test.copy()\n",
    "w1_mean = (gamma[1,0] + gamma[1,1])/2\n",
    "X_test_pseudo.loc[:,\"w1\"] = X_test.loc[:, \"w1\"] * 0 + w1_mean\n",
    "y_test_hat__no_C = model.predict(X_test)\n",
    "w0_test = X_test.loc[:, \"w0\"]\n",
    "\n",
    "w0_space\n",
    "\n",
    "y_train_hat__no_C = model.predict(X_train)\n",
    "w0_train = X_train.loc[:, \"w0\"]\n",
    "\n",
    "#fig, axs = plt.subplots(ncols=1)\n",
    "#axs.plot(w0_space, y_fitted_w0_c0, color = \"blue\")\n",
    "#axs.plot(w0_space, y_fitted_w0_c1, color = \"red\")\n",
    "\n",
    "axs.scatter(w0_test, y_test_hat__no_C, color = \"orange\", marker= '.', label='prediction: class omited', s=.2)\n",
    "#axs.scatter(w0_train, y_train_hat__no_C, color = \"yellow\", marker= 'o', label='prediction: class omited', s=1)\n",
    "\n",
    "\n",
    "\n",
    "#X_hypotheticals__to_draw_line = pd.DataFrame({\"c0\": X_test.loc[:, \"c0\"], \"c1\": X_test.loc[:, \"c1\"], \"w0\": w0_space, \"w1\": w0_space * 0 + w1_mean})\n",
    "#y_hypothetical = model.predict(X_hypotheticals__to_draw_line)\n",
    "#axs.plot(X_hypotheticals__to_draw_line.loc[:,\"w0\"], y_hypothetical, color=\"purple\")\n",
    "fig"
   ]
  },
  {
   "cell_type": "code",
   "execution_count": 22,
   "metadata": {},
   "outputs": [
    {
     "data": {
      "text/html": [
       "<div>\n",
       "<style scoped>\n",
       "    .dataframe tbody tr th:only-of-type {\n",
       "        vertical-align: middle;\n",
       "    }\n",
       "\n",
       "    .dataframe tbody tr th {\n",
       "        vertical-align: top;\n",
       "    }\n",
       "\n",
       "    .dataframe thead th {\n",
       "        text-align: right;\n",
       "    }\n",
       "</style>\n",
       "<table border=\"1\" class=\"dataframe\">\n",
       "  <thead>\n",
       "    <tr style=\"text-align: right;\">\n",
       "      <th></th>\n",
       "      <th>c0</th>\n",
       "      <th>c1</th>\n",
       "      <th>w0</th>\n",
       "      <th>w1</th>\n",
       "    </tr>\n",
       "  </thead>\n",
       "  <tbody>\n",
       "    <tr>\n",
       "      <th>6899</th>\n",
       "      <td>0.0</td>\n",
       "      <td>1.0</td>\n",
       "      <td>3.434263</td>\n",
       "      <td>0.0</td>\n",
       "    </tr>\n",
       "    <tr>\n",
       "      <th>163</th>\n",
       "      <td>0.0</td>\n",
       "      <td>1.0</td>\n",
       "      <td>3.835819</td>\n",
       "      <td>0.0</td>\n",
       "    </tr>\n",
       "    <tr>\n",
       "      <th>4780</th>\n",
       "      <td>0.0</td>\n",
       "      <td>1.0</td>\n",
       "      <td>3.544982</td>\n",
       "      <td>0.0</td>\n",
       "    </tr>\n",
       "    <tr>\n",
       "      <th>1891</th>\n",
       "      <td>1.0</td>\n",
       "      <td>0.0</td>\n",
       "      <td>2.511564</td>\n",
       "      <td>0.0</td>\n",
       "    </tr>\n",
       "    <tr>\n",
       "      <th>5372</th>\n",
       "      <td>0.0</td>\n",
       "      <td>1.0</td>\n",
       "      <td>2.600058</td>\n",
       "      <td>0.0</td>\n",
       "    </tr>\n",
       "    <tr>\n",
       "      <th>...</th>\n",
       "      <td>...</td>\n",
       "      <td>...</td>\n",
       "      <td>...</td>\n",
       "      <td>...</td>\n",
       "    </tr>\n",
       "    <tr>\n",
       "      <th>2771</th>\n",
       "      <td>1.0</td>\n",
       "      <td>0.0</td>\n",
       "      <td>2.937880</td>\n",
       "      <td>0.0</td>\n",
       "    </tr>\n",
       "    <tr>\n",
       "      <th>4043</th>\n",
       "      <td>0.0</td>\n",
       "      <td>1.0</td>\n",
       "      <td>3.542677</td>\n",
       "      <td>0.0</td>\n",
       "    </tr>\n",
       "    <tr>\n",
       "      <th>3612</th>\n",
       "      <td>1.0</td>\n",
       "      <td>0.0</td>\n",
       "      <td>2.154322</td>\n",
       "      <td>0.0</td>\n",
       "    </tr>\n",
       "    <tr>\n",
       "      <th>6667</th>\n",
       "      <td>1.0</td>\n",
       "      <td>0.0</td>\n",
       "      <td>1.114518</td>\n",
       "      <td>0.0</td>\n",
       "    </tr>\n",
       "    <tr>\n",
       "      <th>5892</th>\n",
       "      <td>0.0</td>\n",
       "      <td>1.0</td>\n",
       "      <td>3.669617</td>\n",
       "      <td>0.0</td>\n",
       "    </tr>\n",
       "  </tbody>\n",
       "</table>\n",
       "<p>1600 rows × 4 columns</p>\n",
       "</div>"
      ],
      "text/plain": [
       "       c0   c1        w0   w1\n",
       "6899  0.0  1.0  3.434263  0.0\n",
       "163   0.0  1.0  3.835819  0.0\n",
       "4780  0.0  1.0  3.544982  0.0\n",
       "1891  1.0  0.0  2.511564  0.0\n",
       "5372  0.0  1.0  2.600058  0.0\n",
       "...   ...  ...       ...  ...\n",
       "2771  1.0  0.0  2.937880  0.0\n",
       "4043  0.0  1.0  3.542677  0.0\n",
       "3612  1.0  0.0  2.154322  0.0\n",
       "6667  1.0  0.0  1.114518  0.0\n",
       "5892  0.0  1.0  3.669617  0.0\n",
       "\n",
       "[1600 rows x 4 columns]"
      ]
     },
     "execution_count": 22,
     "metadata": {},
     "output_type": "execute_result"
    }
   ],
   "source": [
    "X_test_pseudo"
   ]
  },
  {
   "cell_type": "markdown",
   "metadata": {},
   "source": [
    "#### Get example marginal weights"
   ]
  },
  {
   "cell_type": "code",
   "execution_count": 5,
   "metadata": {},
   "outputs": [
    {
     "name": "stdout",
     "output_type": "stream",
     "text": [
      "{'z': {'1': 0.9, '2': 0.02, '3': 0.04, '4': 0.04}}\n"
     ]
    }
   ],
   "source": [
    "with open('example_weights.json') as j:\n",
    "    weights = json.load(j)\n",
    "print(weights)"
   ]
  },
  {
   "cell_type": "markdown",
   "metadata": {},
   "source": [
    "The parameter `weights` allows users to supply a dictionary of custom marginal distributions for each protected class feature. Suppose you'd like to put more weight on predictions that treated individuals as though they were members of value 1 in protected class feature 'z' -- say, if the weight on z=1 were 0.9, rather than ~0.25? You'd simply need to change the values in the weights dictionary. Importantly marginals per feature must sum to 1. Further, in this example, 'c0' and 'c1' are one-hot vectors for a binary random variable. In this case, if you altered the share of one group in 'c0' you'd also need to apply the inverse to 'c1' so that the marginals reflected mutual exclusivity. If `DiscriminationMitigator` detects two variables as possible one-hot vectors (i.e. they are extremely correlated), it will raise a Warning, but it *will not* enforce that the marginals of adjacent one-hot vectors are indeed inverses.\n",
    "\n",
    "Additionally, JSON files require keys (in this case, feature names) to be strings, so make sure yours are. `DiscriminationMitigator` converts these to their correct numeric format, so you need not worry about this."
   ]
  },
  {
   "cell_type": "code",
   "execution_count": 121,
   "metadata": {},
   "outputs": [
    {
     "data": {
      "text/plain": [
       "['y', 'c0', 'c1']"
      ]
     },
     "execution_count": 121,
     "metadata": {},
     "output_type": "execute_result"
    }
   ],
   "source": []
  },
  {
   "cell_type": "markdown",
   "metadata": {},
   "source": [
    "#### Train a Tensorflow Keras Sequential deep learning model"
   ]
  },
  {
   "cell_type": "code",
   "execution_count": 20,
   "metadata": {},
   "outputs": [
    {
     "name": "stdout",
     "output_type": "stream",
     "text": [
      "Model: \"sequential\"\n",
      "_________________________________________________________________\n",
      "Layer (type)                 Output Shape              Param #   \n",
      "=================================================================\n",
      "dense (Dense)                (None, 8)                 40        \n",
      "_________________________________________________________________\n",
      "dropout (Dropout)            (None, 8)                 0         \n",
      "_________________________________________________________________\n",
      "dense_1 (Dense)              (None, 16)                144       \n",
      "_________________________________________________________________\n",
      "dropout_1 (Dropout)          (None, 16)                0         \n",
      "_________________________________________________________________\n",
      "dense_2 (Dense)              (None, 1)                 17        \n",
      "=================================================================\n",
      "Total params: 201\n",
      "Trainable params: 201\n",
      "Non-trainable params: 0\n",
      "_________________________________________________________________\n",
      "None\n"
     ]
    }
   ],
   "source": []
  },
  {
   "cell_type": "code",
   "execution_count": 15,
   "metadata": {},
   "outputs": [
    {
     "data": {
      "text/html": [
       "<div>\n",
       "<style scoped>\n",
       "    .dataframe tbody tr th:only-of-type {\n",
       "        vertical-align: middle;\n",
       "    }\n",
       "\n",
       "    .dataframe tbody tr th {\n",
       "        vertical-align: top;\n",
       "    }\n",
       "\n",
       "    .dataframe thead th {\n",
       "        text-align: right;\n",
       "    }\n",
       "</style>\n",
       "<table border=\"1\" class=\"dataframe\">\n",
       "  <thead>\n",
       "    <tr style=\"text-align: right;\">\n",
       "      <th></th>\n",
       "      <th>c0</th>\n",
       "      <th>c1</th>\n",
       "      <th>w0</th>\n",
       "      <th>w1</th>\n",
       "    </tr>\n",
       "  </thead>\n",
       "  <tbody>\n",
       "    <tr>\n",
       "      <th>126</th>\n",
       "      <td>1.0</td>\n",
       "      <td>0.0</td>\n",
       "      <td>4.545620</td>\n",
       "      <td>-0.358214</td>\n",
       "    </tr>\n",
       "    <tr>\n",
       "      <th>358</th>\n",
       "      <td>0.0</td>\n",
       "      <td>1.0</td>\n",
       "      <td>5.329924</td>\n",
       "      <td>0.331814</td>\n",
       "    </tr>\n",
       "    <tr>\n",
       "      <th>355</th>\n",
       "      <td>1.0</td>\n",
       "      <td>0.0</td>\n",
       "      <td>3.812156</td>\n",
       "      <td>0.776741</td>\n",
       "    </tr>\n",
       "    <tr>\n",
       "      <th>533</th>\n",
       "      <td>0.0</td>\n",
       "      <td>1.0</td>\n",
       "      <td>5.803170</td>\n",
       "      <td>0.557149</td>\n",
       "    </tr>\n",
       "    <tr>\n",
       "      <th>450</th>\n",
       "      <td>1.0</td>\n",
       "      <td>0.0</td>\n",
       "      <td>3.887764</td>\n",
       "      <td>0.039358</td>\n",
       "    </tr>\n",
       "    <tr>\n",
       "      <th>...</th>\n",
       "      <td>...</td>\n",
       "      <td>...</td>\n",
       "      <td>...</td>\n",
       "      <td>...</td>\n",
       "    </tr>\n",
       "    <tr>\n",
       "      <th>706</th>\n",
       "      <td>1.0</td>\n",
       "      <td>0.0</td>\n",
       "      <td>4.145032</td>\n",
       "      <td>0.347784</td>\n",
       "    </tr>\n",
       "    <tr>\n",
       "      <th>409</th>\n",
       "      <td>0.0</td>\n",
       "      <td>1.0</td>\n",
       "      <td>5.520678</td>\n",
       "      <td>0.022376</td>\n",
       "    </tr>\n",
       "    <tr>\n",
       "      <th>65</th>\n",
       "      <td>0.0</td>\n",
       "      <td>1.0</td>\n",
       "      <td>7.083715</td>\n",
       "      <td>1.186667</td>\n",
       "    </tr>\n",
       "    <tr>\n",
       "      <th>265</th>\n",
       "      <td>1.0</td>\n",
       "      <td>0.0</td>\n",
       "      <td>4.567907</td>\n",
       "      <td>-0.094556</td>\n",
       "    </tr>\n",
       "    <tr>\n",
       "      <th>16</th>\n",
       "      <td>1.0</td>\n",
       "      <td>0.0</td>\n",
       "      <td>4.391668</td>\n",
       "      <td>0.830562</td>\n",
       "    </tr>\n",
       "  </tbody>\n",
       "</table>\n",
       "<p>400 rows × 4 columns</p>\n",
       "</div>"
      ],
      "text/plain": [
       "      c0   c1        w0        w1\n",
       "126  1.0  0.0  4.545620 -0.358214\n",
       "358  0.0  1.0  5.329924  0.331814\n",
       "355  1.0  0.0  3.812156  0.776741\n",
       "533  0.0  1.0  5.803170  0.557149\n",
       "450  1.0  0.0  3.887764  0.039358\n",
       "..   ...  ...       ...       ...\n",
       "706  1.0  0.0  4.145032  0.347784\n",
       "409  0.0  1.0  5.520678  0.022376\n",
       "65   0.0  1.0  7.083715  1.186667\n",
       "265  1.0  0.0  4.567907 -0.094556\n",
       "16   1.0  0.0  4.391668  0.830562\n",
       "\n",
       "[400 rows x 4 columns]"
      ]
     },
     "execution_count": 15,
     "metadata": {},
     "output_type": "execute_result"
    }
   ],
   "source": [
    "X_train"
   ]
  },
  {
   "cell_type": "code",
   "execution_count": 21,
   "metadata": {
    "scrolled": false
   },
   "outputs": [
    {
     "name": "stdout",
     "output_type": "stream",
     "text": [
      "Epoch 1/10\n",
      "7/7 [==============================] - 0s 32ms/step - loss: 130.8063 - val_loss: 113.6633\n",
      "Epoch 2/10\n",
      "7/7 [==============================] - 0s 11ms/step - loss: 119.5574 - val_loss: 100.9304\n",
      "Epoch 3/10\n",
      "7/7 [==============================] - 0s 10ms/step - loss: 106.3023 - val_loss: 88.8536\n",
      "Epoch 4/10\n",
      "7/7 [==============================] - 0s 11ms/step - loss: 92.3370 - val_loss: 77.5663\n",
      "Epoch 5/10\n",
      "7/7 [==============================] - 0s 11ms/step - loss: 83.2960 - val_loss: 66.9398\n",
      "Epoch 6/10\n",
      "7/7 [==============================] - 0s 11ms/step - loss: 70.9145 - val_loss: 56.9766\n",
      "Epoch 7/10\n",
      "7/7 [==============================] - 0s 11ms/step - loss: 61.6633 - val_loss: 47.8046\n",
      "Epoch 8/10\n",
      "7/7 [==============================] - 0s 10ms/step - loss: 51.9673 - val_loss: 39.3636\n",
      "Epoch 9/10\n",
      "7/7 [==============================] - 0s 10ms/step - loss: 44.8063 - val_loss: 31.6701\n",
      "Epoch 10/10\n",
      "7/7 [==============================] - 0s 11ms/step - loss: 36.4944 - val_loss: 24.8560\n"
     ]
    },
    {
     "data": {
      "text/plain": [
       "<tensorflow.python.keras.callbacks.History at 0x21f838d8d60>"
      ]
     },
     "execution_count": 21,
     "metadata": {},
     "output_type": "execute_result"
    }
   ],
   "source": [
    "model.fit(X_train, y_train, epochs=10, batch_size=64, validation_data=(X_val, y_val))"
   ]
  },
  {
   "cell_type": "markdown",
   "metadata": {},
   "source": [
    "## Discrimination mitigation tool"
   ]
  },
  {
   "cell_type": "markdown",
   "metadata": {},
   "source": [
    "#### Example 1: Use just the marginals from `df`"
   ]
  },
  {
   "cell_type": "code",
   "execution_count": 9,
   "metadata": {},
   "outputs": [],
   "source": [
    "ex1 = DiscriminationMitigator(df=X_test, model=model, config=config, train=None, weights=None).predictions()"
   ]
  },
  {
   "cell_type": "markdown",
   "metadata": {},
   "source": [
    "In the following examples, unadjusted predictions (`unadj_pred`) and uniform weights (`unif_wts`) remain the same. Population weights (`pop_wts`) in this case pertain to the marginal distributions per protected class feature in `df`. "
   ]
  },
  {
   "cell_type": "code",
   "execution_count": 11,
   "metadata": {},
   "outputs": [
    {
     "name": "stdout",
     "output_type": "stream",
     "text": [
      "Dataframe of predictions: \n",
      "    unadj_pred  unif_wts   pop_wts\n",
      "0    6.746980  6.758377  6.767809\n",
      "1    6.075054  6.103145  6.107012\n",
      "2    5.917782  5.889691  5.885960\n",
      "3    6.499167  6.521694  6.527415\n",
      "4    6.741848  6.753245  6.762677\n",
      "\n",
      "Statistical moments: \n",
      "        unadj_pred    unif_wts     pop_wts\n",
      "count  500.000000  500.000000  500.000000\n",
      "mean     6.191450    6.191427    6.191450\n",
      "std      0.549065    0.565770    0.571420\n",
      "min      4.960387    4.943426    4.935985\n",
      "25%      5.721015    5.703740    5.695928\n",
      "50%      6.198308    6.196548    6.198081\n",
      "75%      6.657816    6.679993    6.685009\n",
      "max      7.633538    7.650499    7.658076\n",
      "\n",
      "Correlation matrix of predictions: \n",
      "             unadj_pred  unif_wts   pop_wts\n",
      "unadj_pred    1.000000  0.999761  0.999663\n",
      "unif_wts      0.999761  1.000000  0.999976\n",
      "pop_wts       0.999663  0.999976  1.000000\n"
     ]
    }
   ],
   "source": [
    "print(\"Dataframe of predictions: \\n\", ex1.reset_index(drop=True).head())\n",
    "print(\"\\nStatistical moments: \\n\", ex1.describe())\n",
    "print(\"\\nCorrelation matrix of predictions: \\n\", ex1.corr())"
   ]
  },
  {
   "cell_type": "markdown",
   "metadata": {},
   "source": [
    "#### Example 2: Use the marginals from another dataset (`train`)"
   ]
  },
  {
   "cell_type": "code",
   "execution_count": 12,
   "metadata": {},
   "outputs": [],
   "source": [
    "ex2 = DiscriminationMitigator(df=X_test, model=model, config=config, train=X_train, weights=None).predictions()"
   ]
  },
  {
   "cell_type": "markdown",
   "metadata": {},
   "source": [
    "In cases that the training set (or another dataset) is considerably larger and potentially more population representative than `df`, you may want to reweight the adjusted predictions in `pop_wts` to the marginals of all protected class features in this other dataset."
   ]
  },
  {
   "cell_type": "code",
   "execution_count": 13,
   "metadata": {},
   "outputs": [
    {
     "name": "stdout",
     "output_type": "stream",
     "text": [
      "Dataframe of predictions: \n",
      "    unadj_pred  unif_wts   pop_wts\n",
      "0    6.746980  6.758377  6.767430\n",
      "1    6.075054  6.103145  6.106634\n",
      "2    5.917782  5.889691  5.885582\n",
      "3    6.499167  6.521694  6.527037\n",
      "4    6.741848  6.753245  6.762299\n",
      "\n",
      "Statistical moments: \n",
      "        unadj_pred    unif_wts     pop_wts\n",
      "count  500.000000  500.000000  500.000000\n",
      "mean     6.191450    6.191427    6.191072\n",
      "std      0.549065    0.565770    0.571420\n",
      "min      4.960387    4.943426    4.935606\n",
      "25%      5.721015    5.703740    5.695550\n",
      "50%      6.198308    6.196548    6.197703\n",
      "75%      6.657816    6.679993    6.684631\n",
      "max      7.633538    7.650499    7.657698\n",
      "\n",
      "Correlation matrix of predictions: \n",
      "             unadj_pred  unif_wts   pop_wts\n",
      "unadj_pred    1.000000  0.999761  0.999663\n",
      "unif_wts      0.999761  1.000000  0.999976\n",
      "pop_wts       0.999663  0.999976  1.000000\n"
     ]
    }
   ],
   "source": [
    "print(\"Dataframe of predictions: \\n\", ex2.reset_index(drop=True).head())\n",
    "print(\"\\nStatistical moments: \\n\", ex2.describe())\n",
    "print(\"\\nCorrelation matrix of predictions: \\n\", ex2.corr())"
   ]
  },
  {
   "cell_type": "code",
   "execution_count": 14,
   "metadata": {},
   "outputs": [
    {
     "name": "stdout",
     "output_type": "stream",
     "text": [
      "Compare population weights from 'df' vs. 'train':\n",
      "               df       train\n",
      "count  500.000000  500.000000\n",
      "mean     6.191450    6.191072\n",
      "std      0.571420    0.571420\n",
      "min      4.935985    4.935606\n",
      "25%      5.695928    5.695550\n",
      "50%      6.198081    6.197703\n",
      "75%      6.685009    6.684631\n",
      "max      7.658076    7.657698\n"
     ]
    }
   ],
   "source": [
    "compare_pop = pd.concat([ex1['pop_wts'].rename('df'), ex2['pop_wts'].rename('train')], axis=1)\n",
    "print(\"Compare population weights from 'df' vs. 'train':\")\n",
    "print(compare_pop.describe())"
   ]
  },
  {
   "cell_type": "markdown",
   "metadata": {},
   "source": [
    "#### Example 3: Use the marginals from another dataset and use custom weights"
   ]
  },
  {
   "cell_type": "code",
   "execution_count": 15,
   "metadata": {},
   "outputs": [
    {
     "name": "stderr",
     "output_type": "stream",
     "text": [
      "\n",
      "Warning! The following features are extremely correlated and thus may be one-hot vectors: c0 c1. \n",
      "If no category is omitted, users must ensure custom marginal weights for one-hot vectors align correctly.\n"
     ]
    }
   ],
   "source": [
    "ex3 = DiscriminationMitigator(df=X_test, model=model, config=config, train=X_train, weights=weights).predictions()"
   ]
  },
  {
   "cell_type": "markdown",
   "metadata": {},
   "source": [
    "You may also want to reweight predictions to ask 'what-if' questions: i.e. what if the share of group *x* were different than their observed share in the data? Providing a dictionary of marginal distributions to `weights` will allow for this."
   ]
  },
  {
   "cell_type": "code",
   "execution_count": 18,
   "metadata": {},
   "outputs": [
    {
     "name": "stdout",
     "output_type": "stream",
     "text": [
      "Custom weights: {'z': {'1': 0.9, '2': 0.02, '3': 0.04, '4': 0.04}} \n",
      "\n",
      "Dataframe of predictions: \n",
      "    unadj_pred  unif_wts   pop_wts  cust_wts\n",
      "0    6.746980  6.758377  6.767430  6.744531\n",
      "1    6.075054  6.103145  6.106634  6.105993\n",
      "2    5.917782  5.889691  5.885582  5.915334\n",
      "3    6.499167  6.521694  6.527037  6.518977\n",
      "4    6.741848  6.753245  6.762299  6.739400\n",
      "\n",
      "Statistical moments: \n",
      "        unadj_pred    unif_wts     pop_wts    cust_wts\n",
      "count  500.000000  500.000000  500.000000  500.000000\n",
      "mean     6.191450    6.191427    6.191072    6.205807\n",
      "std      0.549065    0.565770    0.571420    0.548989\n",
      "min      4.960387    4.943426    4.935606    4.980197\n",
      "25%      5.721015    5.703740    5.695550    5.741638\n",
      "50%      6.198308    6.196548    6.197703    6.206755\n",
      "75%      6.657816    6.679993    6.684631    6.681364\n",
      "max      7.633538    7.650499    7.657698    7.642218\n",
      "\n",
      "Correlation matrix of predictions: \n",
      "             unadj_pred  unif_wts   pop_wts  cust_wts\n",
      "unadj_pred    1.000000  0.999761  0.999663  0.999761\n",
      "unif_wts      0.999761  1.000000  0.999976  0.999768\n",
      "pop_wts       0.999663  0.999976  1.000000  0.999596\n",
      "cust_wts      0.999761  0.999768  0.999596  1.000000\n"
     ]
    }
   ],
   "source": [
    "print(\"Custom weights:\", weights, \"\\n\")\n",
    "print(\"Dataframe of predictions: \\n\", ex3.reset_index(drop=True).head())\n",
    "print(\"\\nStatistical moments: \\n\", ex3.describe())\n",
    "print(\"\\nCorrelation matrix of predictions: \\n\", ex3.corr())"
   ]
  },
  {
   "cell_type": "markdown",
   "metadata": {},
   "source": [
    "#### Example 4: Reweighting multiple features at onece - possible, but to be avoided!"
   ]
  },
  {
   "cell_type": "code",
   "execution_count": 19,
   "metadata": {},
   "outputs": [
    {
     "name": "stderr",
     "output_type": "stream",
     "text": [
      "\n",
      "Warning! The following features are extremely correlated and thus may be one-hot vectors: c0 c1. \n",
      "If no category is omitted, users must ensure custom marginal weights for one-hot vectors align correctly.\n"
     ]
    }
   ],
   "source": [
    "new_weights = {'c0': {0.0: 0.1, 1.0: 0.9}, 'c1': {0.0: 0.9, 1.0: 0.1}, 'z': {1.0: 0.9, 2.0: 0.02, 3.0: 0.04, 4.0: 0.04}}\n",
    "ex4 = DiscriminationMitigator(df=X_test, model=model, config=config, train=X_train, weights=new_weights).predictions()"
   ]
  },
  {
   "cell_type": "markdown",
   "metadata": {},
   "source": [
    "JOE: I don't understand what you are getting at here.  \n",
    "\n",
    "Though `DiscriminationMitigator` does not forbid it, we discourage users from reweighting multiple protected class features at the same time. The reason being that this attenuates the effect of the individual reweighted protected class feature. Each reweighted feature produces an *N* x 1 vector, so the preceding creates 3 counterfactual vectors, which are then averaged across for each person. Though the marginals may be weighted differently, this averaging may produce very similar predictions between `pop_wts` and `cust_wts` and should be hence avoided."
   ]
  },
  {
   "cell_type": "code",
   "execution_count": 17,
   "metadata": {},
   "outputs": [
    {
     "name": "stdout",
     "output_type": "stream",
     "text": [
      "Custom weights: {'c0': {0.0: 0.1, 1.0: 0.9}, 'c1': {0.0: 0.9, 1.0: 0.1}, 'z': {1.0: 0.9, 2.0: 0.02, 3.0: 0.04, 4.0: 0.04}} \n",
      "\n",
      "Dataframe of predictions: \n",
      "    unadj_pred  unif_wts   pop_wts  cust_wts\n",
      "0    6.661998  6.676531  6.654327  6.601067\n",
      "1    6.271629  6.202929  6.208470  6.155210\n",
      "2    5.450657  5.519357  5.515208  5.461948\n",
      "3    6.695879  6.654924  6.651216  6.597956\n",
      "4    6.580443  6.594976  6.572772  6.519513\n",
      "\n",
      "Statistical moments: \n",
      "        unadj_pred    unif_wts     pop_wts    cust_wts\n",
      "count  500.000000  500.000000  500.000000  500.000000\n",
      "mean     6.141468    6.141298    6.142123    6.088863\n",
      "std      0.559403    0.533642    0.526824    0.526824\n",
      "min      4.807796    4.876495    4.872347    4.819087\n",
      "25%      5.643587    5.679643    5.691246    5.637986\n",
      "50%      6.155550    6.154496    6.149170    6.095911\n",
      "75%      6.611161    6.593558    6.573488    6.520228\n",
      "max      7.422514    7.353815    7.359354    7.306095\n",
      "\n",
      "Correlation matrix of predictions: \n",
      "             unadj_pred  unif_wts   pop_wts  cust_wts\n",
      "unadj_pred    1.000000  0.998369  0.998899  0.998899\n",
      "unif_wts      0.998369  1.000000  0.999762  0.999762\n",
      "pop_wts       0.998899  0.999762  1.000000  1.000000\n",
      "cust_wts      0.998899  0.999762  1.000000  1.000000\n"
     ]
    }
   ],
   "source": [
    "print(\"Custom weights:\", new_weights, \"\\n\")\n",
    "print(\"Dataframe of predictions: \\n\", ex4.reset_index(drop=True).head())\n",
    "print(\"\\nStatistical moments: \\n\", ex4.describe())\n",
    "print(\"\\nCorrelation matrix of predictions: \\n\", ex4.corr())"
   ]
  }
 ],
 "metadata": {
  "@webio": {
   "lastCommId": null,
   "lastKernelId": null
  },
  "kernelspec": {
   "display_name": "Python 3",
   "language": "python",
   "name": "python3"
  },
  "language_info": {
   "codemirror_mode": {
    "name": "ipython",
    "version": 3
   },
   "file_extension": ".py",
   "mimetype": "text/x-python",
   "name": "python",
   "nbconvert_exporter": "python",
   "pygments_lexer": "ipython3",
   "version": "3.8.3"
  }
 },
 "nbformat": 4,
 "nbformat_minor": 4
}
