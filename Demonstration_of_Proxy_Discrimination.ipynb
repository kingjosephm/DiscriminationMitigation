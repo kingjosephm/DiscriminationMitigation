{
 "cells": [
  {
   "cell_type": "markdown",
   "metadata": {},
   "source": [
    "\n",
    "# Demonstration of Proxy Discrimination and `DiscriminationMitigator`"
   ]
  },
  {
   "cell_type": "code",
   "execution_count": null,
   "metadata": {},
   "outputs": [],
   "source": [
    "# standard preamble\n",
    "import json\n",
    "from DiscriminationMitigation import *\n",
    "from sklearn.model_selection import train_test_split\n",
    "pd.set_option('display.max_rows', 20)\n",
    "pd.set_option('display.max_columns', 100)\n",
    "import matplotlib.pyplot as plt\n",
    "http://localhost:8888/notebooks/Documents/ML_Discrimination/ml-discrimination-mitigation/Demonstration_of_Proxy_Discrimination.ipynb#\n",
    "with open('example_config.json') as j:\n",
    "    config = json.load(j)\n",
    "    \n",
    "N = 8000\n"
   ]
  },
  {
   "cell_type": "markdown",
   "metadata": {},
   "source": [
    "In the following data generating process, we have a target variable *y* that we are trying to predict, we have dummies for two categories of a protected class *c1* and *c0*, and we have covariates *w1*, ... .  \n",
    "Class membership is drawn from a binomial.  \n",
    "Covariates depend upon independent normal draws plus class category specific means.  Category specific means generate correlation between class category membership and covariates.  \n",
    "The target variables *y* is determined by covariates, independent normal draws, and class category membership.  Class category membership causing y can be though of many ways. We find it most convenient to interpret it as representing unobserved causal variables that are correlated with protected class, but it could also represent bias in the target or taste-based discrimination in the target.  "
   ]
  },
  {
   "cell_type": "code",
   "execution_count": 215,
   "metadata": {},
   "outputs": [],
   "source": [
    "def simple_synth(n=500, class_prob=0.5, \n",
    "                 gamma=np.matrix([[2,3],[.4,.6]]), \n",
    "                 alpha=np.matrix([[0,2]]), \n",
    "                 beta=np.matrix([[2,2],[1,1]]) ):\n",
    "    \n",
    "    np.random.seed(1776)\n",
    "\n",
    "    # Protected class variable\n",
    "    c1 = np.random.binomial(1, p=class_prob, size=n) # group 1\n",
    "    c0 = 1-c1 # group 0\n",
    "\n",
    "    # Other covariates\n",
    "    w0 = gamma[0,0]*c0 + gamma[0,1]*c1 + np.random.normal(0, 0.5, size=n) # linear function of class & shock\n",
    "    w1 = gamma[1,0]*c0 + gamma[1,1]*c1 + np.random.normal(0, 0.3, size=n)\n",
    "                                                                 \n",
    "    # Outcome variable\n",
    "    y = alpha[0,0]*c0   + alpha[0,1]*c1 + \\\n",
    "        beta[0,0]*c0*w0 + beta[0,1]*c1*w0 + \\\n",
    "        beta[1,0]*c0*w1 + beta[1,1]*c1*w1 + \\\n",
    "        np.random.normal(0, 0.3, size=n)\n",
    "\n",
    "    return pd.DataFrame([y, c0, c1, w0, w1]).T.rename(columns={0:'y', 1: 'c0', 2: 'c1', 3: 'w0', 4:'w1'})"
   ]
  },
  {
   "cell_type": "markdown",
   "metadata": {},
   "source": [
    "#### Instantiate some synthetic data"
   ]
  },
  {
   "cell_type": "code",
   "execution_count": 238,
   "metadata": {},
   "outputs": [
    {
     "name": "stdout",
     "output_type": "stream",
     "text": [
      "          y   c0   c1        w0        w1\n",
      "0  4.673528  1.0  0.0  2.214135  0.324108\n",
      "1  7.939870  0.0  1.0  2.404301  1.070192\n",
      "2  5.222822  1.0  0.0  2.338783  0.519127\n",
      "3  9.406248  0.0  1.0  3.145858  0.822292\n",
      "4  3.990423  1.0  0.0  1.523643  0.897265\n",
      "\n",
      " (8000, 5)\n"
     ]
    }
   ],
   "source": [
    "class_prob=0.5\n",
    "gamma=np.matrix([[2,3.5],[.4,.6]])\n",
    "alpha=np.matrix([[0,2]])\n",
    "beta=np.matrix([[2,2],[1,1]])\n",
    "synth = simple_synth(n=N, class_prob=class_prob, gamma=gamma, alpha=alpha, beta=beta)\n",
    "print(synth.head())\n",
    "print(\"\\n\", synth.shape)"
   ]
  },
  {
   "cell_type": "markdown",
   "metadata": {},
   "source": [
    "#### Displaying the Problem"
   ]
  },
  {
   "cell_type": "code",
   "execution_count": 239,
   "metadata": {},
   "outputs": [],
   "source": [
    "def dgp_y_hat(c0, c1, w0, w1, alpha, beta):\n",
    "    y = alpha[0,0]*c0   + alpha[0,1]*c1 + \\\n",
    "        beta[0,0]*c0*w0 + beta[0,1]*c1*w0 + \\\n",
    "        beta[1,0]*c0*w1 + beta[1,1]*c1*w1\n",
    "    return y\n",
    "   \n",
    "    \n",
    "    "
   ]
  },
  {
   "cell_type": "code",
   "execution_count": 240,
   "metadata": {},
   "outputs": [
    {
     "name": "stdout",
     "output_type": "stream",
     "text": [
      "3.5\n"
     ]
    }
   ],
   "source": [
    "y_fit_test = dgp_y_hat(0.5, 0.5, 1.0, 0.5, alpha, beta)\n",
    "\n",
    "# y_fit1 = synth.loc[:, \"w0\"].apply(lambda w0: dgp_y_hat(0.5, 0.5, w0, 0.5, alpha, beta), axis=0)\n",
    "#print(y_fit_of_w0_c1(1))\n",
    "print(y_fit_test)"
   ]
  },
  {
   "cell_type": "code",
   "execution_count": 276,
   "metadata": {},
   "outputs": [
    {
     "data": {
      "text/plain": [
       "<matplotlib.legend.Legend at 0x21f96057370>"
      ]
     },
     "execution_count": 276,
     "metadata": {},
     "output_type": "execute_result"
    },
    {
     "data": {
      "image/png": "[encoded data removed]",
      "text/plain": [
       "<Figure size 432x288 with 1 Axes>"
      ]
     },
     "metadata": {
      "needs_background": "light"
     },
     "output_type": "display_data"
    }
   ],
   "source": [
    "synth_vars = [\"y\", \"c0\", \"c1\", \"w0\", \"w1\"]\n",
    "c0_data = synth.loc[synth.loc[:, \"c0\"] == 1, :]\n",
    "c1_data = synth.loc[synth.loc[:, \"c1\"] == 1, :]\n",
    "\n",
    "matplotlib.use('module://ipykernel.pylab.backend_inline')\n",
    "fig, axs = plt.subplots(ncols=1)\n",
    "axs.scatter(c0_data.loc[:, \"w0\"],c0_data.loc[:, \"y\"],color='blue', marker= '.', label='Group 0', s=0.01)\n",
    "axs.scatter(c1_data.loc[:, \"w0\"],c1_data.loc[:, \"y\"],color= 'red', marker='.', label='Group 1', s=0.01)\n",
    "\n",
    "axs.set_title('Different intercepts for different groups')\n",
    "axs.set_xlabel('w0')\n",
    "axs.set_ylabel('y')\n",
    "axs.legend(loc='best')\n",
    "#fig\n",
    "\n",
    "\n"
   ]
  },
  {
   "cell_type": "markdown",
   "metadata": {},
   "source": [
    "**Discussion of above figure**"
   ]
  },
  {
   "cell_type": "code",
   "execution_count": 277,
   "metadata": {},
   "outputs": [
    {
     "data": {
      "image/png": "[encoded data removed]",
      "text/plain": [
       "<Figure size 432x288 with 1 Axes>"
      ]
     },
     "execution_count": 277,
     "metadata": {},
     "output_type": "execute_result"
    }
   ],
   "source": [
    "def y_fit_of_w0_of_c1(w0, c1):  #class_prob, alpha, beta, gamma)\n",
    "    mean_w1 = (1-c1)*gamma[1,0] + c1*gamma[1,1]\n",
    "    return dgp_y_hat(1-c1, c1, w0, mean_w1, alpha, beta)\n",
    "#y_fit1 = synth.loc[:, \"w0\"].apply(lambda w0: dgp_y_hat(0.5, 0.5, w0, 0.5, alpha, beta), axis=0)\n",
    "#y_fit_w0_c1 = synth.loc[:, \"w0\"].apply(lambda w0: y_fit_of_w0_of_c1(w0,1))\n",
    "#y_fit_w0_c0 = synth.loc[:, \"w0\"].apply(lambda w0: y_fit_of_w0_of_c1(w0,0))\n",
    "\n",
    "\n",
    "w0_space = np.linspace(0, 5, 20)\n",
    "f_w0_c0 = lambda w0: y_fit_of_w0_of_c1(w0, 0)\n",
    "f_w0_c1 = lambda w0: y_fit_of_w0_of_c1(w0, 1)\n",
    "y_fitted_w0_c0 = f_w0_c0(w0_space)\n",
    "y_fitted_w0_c1 = f_w0_c1(w0_space)\n",
    "\n",
    "axs.plot(w0_space, y_fitted_w0_c0, color = \"blue\")\n",
    "axs.plot(w0_space, y_fitted_w0_c1, color = \"red\")\n",
    "fig\n",
    "#ax = plt.plot(w0_space, y_fitted)\n",
    "#ax.show()\n",
    "#ax = plt.line()\n",
    "\n"
   ]
  },
  {
   "cell_type": "markdown",
   "metadata": {},
   "source": [
    "#### What does the neural net predict when we omit the protected class variable? "
   ]
  },
  {
   "cell_type": "code",
   "execution_count": 244,
   "metadata": {},
   "outputs": [
    {
     "name": "stdout",
     "output_type": "stream",
     "text": [
      "(5120, 2)\n",
      "(1280, 2)\n",
      "(1600, 2)\n",
      "Model: \"sequential\"\n",
      "_________________________________________________________________\n",
      "Layer (type)                 Output Shape              Param #   \n",
      "=================================================================\n",
      "dense (Dense)                (None, 32)                96        \n",
      "_________________________________________________________________\n",
      "dropout (Dropout)            (None, 32)                0         \n",
      "_________________________________________________________________\n",
      "dense_1 (Dense)              (None, 16)                528       \n",
      "_________________________________________________________________\n",
      "dropout_1 (Dropout)          (None, 16)                0         \n",
      "_________________________________________________________________\n",
      "dense_2 (Dense)              (None, 16)                272       \n",
      "_________________________________________________________________\n",
      "dense_3 (Dense)              (None, 1)                 17        \n",
      "=================================================================\n",
      "Total params: 913\n",
      "Trainable params: 913\n",
      "Non-trainable params: 0\n",
      "_________________________________________________________________\n",
      "None\n"
     ]
    }
   ],
   "source": [
    "# Train (and val) / test split\n",
    "X_train, X_test, y_train, y_test = train_test_split(synth.loc[:, ~synth.columns.isin(config['target_feature'] + [\"c0\", \"c1\"])],\n",
    "                                                    synth[config['target_feature']], random_state=1776,\n",
    "                                                    test_size=0.2)\n",
    "# Train / val split\n",
    "X_train, X_val, y_train, y_val = train_test_split(X_train, y_train, random_state=123, test_size=0.2)\n",
    "\n",
    "for x in X_train, X_val, X_test:\n",
    "    print(x.shape)\n",
    "\n",
    "tf.keras.backend.clear_session()\n",
    "model = tf.keras.Sequential()\n",
    "model.add(tf.keras.layers.Input(shape=2,))\n",
    "model.add(tf.keras.layers.Dense(32))\n",
    "model.add(tf.keras.layers.Dropout(0.05))\n",
    "model.add(tf.keras.layers.Dense(16))\n",
    "model.add(tf.keras.layers.Dropout(0.05))\n",
    "model.add(tf.keras.layers.Dense(16))\n",
    "model.add(tf.keras.layers.Dense(1))\n",
    "\n",
    "model.compile(optimizer='adam', loss='mse')\n",
    "\n",
    "print(model.summary())\n"
   ]
  },
  {
   "cell_type": "code",
   "execution_count": 247,
   "metadata": {},
   "outputs": [
    {
     "name": "stdout",
     "output_type": "stream",
     "text": [
      "Epoch 1/10\n",
      "80/80 [==============================] - 0s 2ms/step - loss: 0.7616 - val_loss: 0.3980\n",
      "Epoch 2/10\n",
      "80/80 [==============================] - 0s 2ms/step - loss: 0.7829 - val_loss: 0.3917\n",
      "Epoch 3/10\n",
      "80/80 [==============================] - 0s 2ms/step - loss: 0.7721 - val_loss: 0.4541\n",
      "Epoch 4/10\n",
      "80/80 [==============================] - 0s 3ms/step - loss: 0.7560 - val_loss: 0.3962\n",
      "Epoch 5/10\n",
      "80/80 [==============================] - 0s 3ms/step - loss: 0.7359 - val_loss: 0.3893\n",
      "Epoch 6/10\n",
      "80/80 [==============================] - 0s 2ms/step - loss: 0.6998 - val_loss: 0.4014\n",
      "Epoch 7/10\n",
      "80/80 [==============================] - 0s 2ms/step - loss: 0.7385 - val_loss: 0.3953\n",
      "Epoch 8/10\n",
      "80/80 [==============================] - 0s 3ms/step - loss: 0.6932 - val_loss: 0.3918\n",
      "Epoch 9/10\n",
      "80/80 [==============================] - 0s 3ms/step - loss: 0.7152 - val_loss: 0.3891\n",
      "Epoch 10/10\n",
      "80/80 [==============================] - 0s 3ms/step - loss: 0.6871 - val_loss: 0.3960\n"
     ]
    },
    {
     "data": {
      "text/plain": [
       "<tensorflow.python.keras.callbacks.History at 0x21f93223700>"
      ]
     },
     "execution_count": 247,
     "metadata": {},
     "output_type": "execute_result"
    }
   ],
   "source": [
    "model.fit(X_train, y_train, epochs=10, batch_size=64, validation_data=(X_val, y_val))\n"
   ]
  },
  {
   "cell_type": "code",
   "execution_count": 278,
   "metadata": {},
   "outputs": [
    {
     "data": {
      "image/png": "[encoded data removed]",
      "text/plain": [
       "<Figure size 432x288 with 1 Axes>"
      ]
     },
     "execution_count": 278,
     "metadata": {},
     "output_type": "execute_result"
    }
   ],
   "source": [
    "\n",
    "X_test_pseudo = X_test.copy()\n",
    "w1_mean = (gamma[1,0] + gamma[1,1])/2\n",
    "X_test_pseudo.loc[:,\"w1\"] = X_test.loc[:, \"w1\"] * 0 * w1_mean\n",
    "y_test_hat__no_C = model.predict(X_test)\n",
    "w0_test = X_test.loc[:, \"w0\"]\n",
    "\n",
    "w0_space\n",
    "\n",
    "y_train_hat__no_C = model.predict(X_train)\n",
    "w0_train = X_train.loc[:, \"w0\"]\n",
    "\n",
    "#fig, axs = plt.subplots(ncols=1)\n",
    "#axs.plot(w0_space, y_fitted_w0_c0, color = \"blue\")\n",
    "#axs.plot(w0_space, y_fitted_w0_c1, color = \"red\")\n",
    "\n",
    "axs.scatter(w0_test, y_test_hat__no_C, color = \"orange\", marker= '.', label='prediction: class omited', s=.2)\n",
    "#axs.scatter(w0_train, y_train_hat__no_C, color = \"yellow\", marker= 'o', label='prediction: class omited', s=1)\n",
    "\n",
    "\n",
    "\n",
    "X_hypotheticals__to_draw_line = pd.DataFrame({\"w0\": w0_space, \"w1\": w0_space * 0 + w1_mean})\n",
    "y_hypothetical = model.predict(X_hypotheticals__to_draw_line)\n",
    "axs.plot(X_hypotheticals__to_draw_line.loc[:,\"w0\"], y_hypothetical, color=\"orange\")\n",
    "fig"
   ]
  },
  {
   "cell_type": "markdown",
   "metadata": {},
   "source": [
    "#### Get example marginal weights"
   ]
  },
  {
   "cell_type": "code",
   "execution_count": 5,
   "metadata": {},
   "outputs": [
    {
     "name": "stdout",
     "output_type": "stream",
     "text": [
      "{'z': {'1': 0.9, '2': 0.02, '3': 0.04, '4': 0.04}}\n"
     ]
    }
   ],
   "source": [
    "with open('example_weights.json') as j:\n",
    "    weights = json.load(j)\n",
    "print(weights)"
   ]
  },
  {
   "cell_type": "markdown",
   "metadata": {},
   "source": [
    "The parameter `weights` allows users to supply a dictionary of custom marginal distributions for each protected class feature. Suppose you'd like to put more weight on predictions that treated individuals as though they were members of value 1 in protected class feature 'z' -- say, if the weight on z=1 were 0.9, rather than ~0.25? You'd simply need to change the values in the weights dictionary. Importantly marginals per feature must sum to 1. Further, in this example, 'c0' and 'c1' are one-hot vectors for a binary random variable. In this case, if you altered the share of one group in 'c0' you'd also need to apply the inverse to 'c1' so that the marginals reflected mutual exclusivity. If `DiscriminationMitigator` detects two variables as possible one-hot vectors (i.e. they are extremely correlated), it will raise a Warning, but it *will not* enforce that the marginals of adjacent one-hot vectors are indeed inverses.\n",
    "\n",
    "Additionally, JSON files require keys (in this case, feature names) to be strings, so make sure yours are. `DiscriminationMitigator` converts these to their correct numeric format, so you need not worry about this."
   ]
  },
  {
   "cell_type": "code",
   "execution_count": 121,
   "metadata": {},
   "outputs": [
    {
     "data": {
      "text/plain": [
       "['y', 'c0', 'c1']"
      ]
     },
     "execution_count": 121,
     "metadata": {},
     "output_type": "execute_result"
    }
   ],
   "source": []
  },
  {
   "cell_type": "markdown",
   "metadata": {},
   "source": [
    "#### Train a Tensorflow Keras Sequential deep learning model"
   ]
  },
  {
   "cell_type": "code",
   "execution_count": 20,
   "metadata": {},
   "outputs": [
    {
     "name": "stdout",
     "output_type": "stream",
     "text": [
      "Model: \"sequential\"\n",
      "_________________________________________________________________\n",
      "Layer (type)                 Output Shape              Param #   \n",
      "=================================================================\n",
      "dense (Dense)                (None, 8)                 40        \n",
      "_________________________________________________________________\n",
      "dropout (Dropout)            (None, 8)                 0         \n",
      "_________________________________________________________________\n",
      "dense_1 (Dense)              (None, 16)                144       \n",
      "_________________________________________________________________\n",
      "dropout_1 (Dropout)          (None, 16)                0         \n",
      "_________________________________________________________________\n",
      "dense_2 (Dense)              (None, 1)                 17        \n",
      "=================================================================\n",
      "Total params: 201\n",
      "Trainable params: 201\n",
      "Non-trainable params: 0\n",
      "_________________________________________________________________\n",
      "None\n"
     ]
    }
   ],
   "source": []
  },
  {
   "cell_type": "code",
   "execution_count": 15,
   "metadata": {},
   "outputs": [
    {
     "data": {
      "text/html": [
       "<div>\n",
       "<style scoped>\n",
       "    .dataframe tbody tr th:only-of-type {\n",
       "        vertical-align: middle;\n",
       "    }\n",
       "\n",
       "    .dataframe tbody tr th {\n",
       "        vertical-align: top;\n",
       "    }\n",
       "\n",
       "    .dataframe thead th {\n",
       "        text-align: right;\n",
       "    }\n",
       "</style>\n",
       "<table border=\"1\" class=\"dataframe\">\n",
       "  <thead>\n",
       "    <tr style=\"text-align: right;\">\n",
       "      <th></th>\n",
       "      <th>c0</th>\n",
       "      <th>c1</th>\n",
       "      <th>w0</th>\n",
       "      <th>w1</th>\n",
       "    </tr>\n",
       "  </thead>\n",
       "  <tbody>\n",
       "    <tr>\n",
       "      <th>126</th>\n",
       "      <td>1.0</td>\n",
       "      <td>0.0</td>\n",
       "      <td>4.545620</td>\n",
       "      <td>-0.358214</td>\n",
       "    </tr>\n",
       "    <tr>\n",
       "      <th>358</th>\n",
       "      <td>0.0</td>\n",
       "      <td>1.0</td>\n",
       "      <td>5.329924</td>\n",
       "      <td>0.331814</td>\n",
       "    </tr>\n",
       "    <tr>\n",
       "      <th>355</th>\n",
       "      <td>1.0</td>\n",
       "      <td>0.0</td>\n",
       "      <td>3.812156</td>\n",
       "      <td>0.776741</td>\n",
       "    </tr>\n",
       "    <tr>\n",
       "      <th>533</th>\n",
       "      <td>0.0</td>\n",
       "      <td>1.0</td>\n",
       "      <td>5.803170</td>\n",
       "      <td>0.557149</td>\n",
       "    </tr>\n",
       "    <tr>\n",
       "      <th>450</th>\n",
       "      <td>1.0</td>\n",
       "      <td>0.0</td>\n",
       "      <td>3.887764</td>\n",
       "      <td>0.039358</td>\n",
       "    </tr>\n",
       "    <tr>\n",
       "      <th>...</th>\n",
       "      <td>...</td>\n",
       "      <td>...</td>\n",
       "      <td>...</td>\n",
       "      <td>...</td>\n",
       "    </tr>\n",
       "    <tr>\n",
       "      <th>706</th>\n",
       "      <td>1.0</td>\n",
       "      <td>0.0</td>\n",
       "      <td>4.145032</td>\n",
       "      <td>0.347784</td>\n",
       "    </tr>\n",
       "    <tr>\n",
       "      <th>409</th>\n",
       "      <td>0.0</td>\n",
       "      <td>1.0</td>\n",
       "      <td>5.520678</td>\n",
       "      <td>0.022376</td>\n",
       "    </tr>\n",
       "    <tr>\n",
       "      <th>65</th>\n",
       "      <td>0.0</td>\n",
       "      <td>1.0</td>\n",
       "      <td>7.083715</td>\n",
       "      <td>1.186667</td>\n",
       "    </tr>\n",
       "    <tr>\n",
       "      <th>265</th>\n",
       "      <td>1.0</td>\n",
       "      <td>0.0</td>\n",
       "      <td>4.567907</td>\n",
       "      <td>-0.094556</td>\n",
       "    </tr>\n",
       "    <tr>\n",
       "      <th>16</th>\n",
       "      <td>1.0</td>\n",
       "      <td>0.0</td>\n",
       "      <td>4.391668</td>\n",
       "      <td>0.830562</td>\n",
       "    </tr>\n",
       "  </tbody>\n",
       "</table>\n",
       "<p>400 rows × 4 columns</p>\n",
       "</div>"
      ],
      "text/plain": [
       "      c0   c1        w0        w1\n",
       "126  1.0  0.0  4.545620 -0.358214\n",
       "358  0.0  1.0  5.329924  0.331814\n",
       "355  1.0  0.0  3.812156  0.776741\n",
       "533  0.0  1.0  5.803170  0.557149\n",
       "450  1.0  0.0  3.887764  0.039358\n",
       "..   ...  ...       ...       ...\n",
       "706  1.0  0.0  4.145032  0.347784\n",
       "409  0.0  1.0  5.520678  0.022376\n",
       "65   0.0  1.0  7.083715  1.186667\n",
       "265  1.0  0.0  4.567907 -0.094556\n",
       "16   1.0  0.0  4.391668  0.830562\n",
       "\n",
       "[400 rows x 4 columns]"
      ]
     },
     "execution_count": 15,
     "metadata": {},
     "output_type": "execute_result"
    }
   ],
   "source": [
    "X_train"
   ]
  },
  {
   "cell_type": "code",
   "execution_count": 21,
   "metadata": {
    "scrolled": false
   },
   "outputs": [
    {
     "name": "stdout",
     "output_type": "stream",
     "text": [
      "Epoch 1/10\n",
      "7/7 [==============================] - 0s 32ms/step - loss: 130.8063 - val_loss: 113.6633\n",
      "Epoch 2/10\n",
      "7/7 [==============================] - 0s 11ms/step - loss: 119.5574 - val_loss: 100.9304\n",
      "Epoch 3/10\n",
      "7/7 [==============================] - 0s 10ms/step - loss: 106.3023 - val_loss: 88.8536\n",
      "Epoch 4/10\n",
      "7/7 [==============================] - 0s 11ms/step - loss: 92.3370 - val_loss: 77.5663\n",
      "Epoch 5/10\n",
      "7/7 [==============================] - 0s 11ms/step - loss: 83.2960 - val_loss: 66.9398\n",
      "Epoch 6/10\n",
      "7/7 [==============================] - 0s 11ms/step - loss: 70.9145 - val_loss: 56.9766\n",
      "Epoch 7/10\n",
      "7/7 [==============================] - 0s 11ms/step - loss: 61.6633 - val_loss: 47.8046\n",
      "Epoch 8/10\n",
      "7/7 [==============================] - 0s 10ms/step - loss: 51.9673 - val_loss: 39.3636\n",
      "Epoch 9/10\n",
      "7/7 [==============================] - 0s 10ms/step - loss: 44.8063 - val_loss: 31.6701\n",
      "Epoch 10/10\n",
      "7/7 [==============================] - 0s 11ms/step - loss: 36.4944 - val_loss: 24.8560\n"
     ]
    },
    {
     "data": {
      "text/plain": [
       "<tensorflow.python.keras.callbacks.History at 0x21f838d8d60>"
      ]
     },
     "execution_count": 21,
     "metadata": {},
     "output_type": "execute_result"
    }
   ],
   "source": [
    "model.fit(X_train, y_train, epochs=10, batch_size=64, validation_data=(X_val, y_val))"
   ]
  },
  {
   "cell_type": "markdown",
   "metadata": {},
   "source": [
    "## Discrimination mitigation tool"
   ]
  },
  {
   "cell_type": "markdown",
   "metadata": {},
   "source": [
    "#### Example 1: Use just the marginals from `df`"
   ]
  },
  {
   "cell_type": "code",
   "execution_count": 9,
   "metadata": {},
   "outputs": [],
   "source": [
    "ex1 = DiscriminationMitigator(df=X_test, model=model, config=config, train=None, weights=None).predictions()"
   ]
  },
  {
   "cell_type": "markdown",
   "metadata": {},
   "source": [
    "In the following examples, unadjusted predictions (`unadj_pred`) and uniform weights (`unif_wts`) remain the same. Population weights (`pop_wts`) in this case pertain to the marginal distributions per protected class feature in `df`. "
   ]
  },
  {
   "cell_type": "code",
   "execution_count": 11,
   "metadata": {},
   "outputs": [
    {
     "name": "stdout",
     "output_type": "stream",
     "text": [
      "Dataframe of predictions: \n",
      "    unadj_pred  unif_wts   pop_wts\n",
      "0    6.746980  6.758377  6.767809\n",
      "1    6.075054  6.103145  6.107012\n",
      "2    5.917782  5.889691  5.885960\n",
      "3    6.499167  6.521694  6.527415\n",
      "4    6.741848  6.753245  6.762677\n",
      "\n",
      "Statistical moments: \n",
      "        unadj_pred    unif_wts     pop_wts\n",
      "count  500.000000  500.000000  500.000000\n",
      "mean     6.191450    6.191427    6.191450\n",
      "std      0.549065    0.565770    0.571420\n",
      "min      4.960387    4.943426    4.935985\n",
      "25%      5.721015    5.703740    5.695928\n",
      "50%      6.198308    6.196548    6.198081\n",
      "75%      6.657816    6.679993    6.685009\n",
      "max      7.633538    7.650499    7.658076\n",
      "\n",
      "Correlation matrix of predictions: \n",
      "             unadj_pred  unif_wts   pop_wts\n",
      "unadj_pred    1.000000  0.999761  0.999663\n",
      "unif_wts      0.999761  1.000000  0.999976\n",
      "pop_wts       0.999663  0.999976  1.000000\n"
     ]
    }
   ],
   "source": [
    "print(\"Dataframe of predictions: \\n\", ex1.reset_index(drop=True).head())\n",
    "print(\"\\nStatistical moments: \\n\", ex1.describe())\n",
    "print(\"\\nCorrelation matrix of predictions: \\n\", ex1.corr())"
   ]
  },
  {
   "cell_type": "markdown",
   "metadata": {},
   "source": [
    "#### Example 2: Use the marginals from another dataset (`train`)"
   ]
  },
  {
   "cell_type": "code",
   "execution_count": 12,
   "metadata": {},
   "outputs": [],
   "source": [
    "ex2 = DiscriminationMitigator(df=X_test, model=model, config=config, train=X_train, weights=None).predictions()"
   ]
  },
  {
   "cell_type": "markdown",
   "metadata": {},
   "source": [
    "In cases that the training set (or another dataset) is considerably larger and potentially more population representative than `df`, you may want to reweight the adjusted predictions in `pop_wts` to the marginals of all protected class features in this other dataset."
   ]
  },
  {
   "cell_type": "code",
   "execution_count": 13,
   "metadata": {},
   "outputs": [
    {
     "name": "stdout",
     "output_type": "stream",
     "text": [
      "Dataframe of predictions: \n",
      "    unadj_pred  unif_wts   pop_wts\n",
      "0    6.746980  6.758377  6.767430\n",
      "1    6.075054  6.103145  6.106634\n",
      "2    5.917782  5.889691  5.885582\n",
      "3    6.499167  6.521694  6.527037\n",
      "4    6.741848  6.753245  6.762299\n",
      "\n",
      "Statistical moments: \n",
      "        unadj_pred    unif_wts     pop_wts\n",
      "count  500.000000  500.000000  500.000000\n",
      "mean     6.191450    6.191427    6.191072\n",
      "std      0.549065    0.565770    0.571420\n",
      "min      4.960387    4.943426    4.935606\n",
      "25%      5.721015    5.703740    5.695550\n",
      "50%      6.198308    6.196548    6.197703\n",
      "75%      6.657816    6.679993    6.684631\n",
      "max      7.633538    7.650499    7.657698\n",
      "\n",
      "Correlation matrix of predictions: \n",
      "             unadj_pred  unif_wts   pop_wts\n",
      "unadj_pred    1.000000  0.999761  0.999663\n",
      "unif_wts      0.999761  1.000000  0.999976\n",
      "pop_wts       0.999663  0.999976  1.000000\n"
     ]
    }
   ],
   "source": [
    "print(\"Dataframe of predictions: \\n\", ex2.reset_index(drop=True).head())\n",
    "print(\"\\nStatistical moments: \\n\", ex2.describe())\n",
    "print(\"\\nCorrelation matrix of predictions: \\n\", ex2.corr())"
   ]
  },
  {
   "cell_type": "code",
   "execution_count": 14,
   "metadata": {},
   "outputs": [
    {
     "name": "stdout",
     "output_type": "stream",
     "text": [
      "Compare population weights from 'df' vs. 'train':\n",
      "               df       train\n",
      "count  500.000000  500.000000\n",
      "mean     6.191450    6.191072\n",
      "std      0.571420    0.571420\n",
      "min      4.935985    4.935606\n",
      "25%      5.695928    5.695550\n",
      "50%      6.198081    6.197703\n",
      "75%      6.685009    6.684631\n",
      "max      7.658076    7.657698\n"
     ]
    }
   ],
   "source": [
    "compare_pop = pd.concat([ex1['pop_wts'].rename('df'), ex2['pop_wts'].rename('train')], axis=1)\n",
    "print(\"Compare population weights from 'df' vs. 'train':\")\n",
    "print(compare_pop.describe())"
   ]
  },
  {
   "cell_type": "markdown",
   "metadata": {},
   "source": [
    "#### Example 3: Use the marginals from another dataset and use custom weights"
   ]
  },
  {
   "cell_type": "code",
   "execution_count": 15,
   "metadata": {},
   "outputs": [
    {
     "name": "stderr",
     "output_type": "stream",
     "text": [
      "\n",
      "Warning! The following features are extremely correlated and thus may be one-hot vectors: c0 c1. \n",
      "If no category is omitted, users must ensure custom marginal weights for one-hot vectors align correctly.\n"
     ]
    }
   ],
   "source": [
    "ex3 = DiscriminationMitigator(df=X_test, model=model, config=config, train=X_train, weights=weights).predictions()"
   ]
  },
  {
   "cell_type": "markdown",
   "metadata": {},
   "source": [
    "You may also want to reweight predictions to ask 'what-if' questions: i.e. what if the share of group *x* were different than their observed share in the data? Providing a dictionary of marginal distributions to `weights` will allow for this."
   ]
  },
  {
   "cell_type": "code",
   "execution_count": 18,
   "metadata": {},
   "outputs": [
    {
     "name": "stdout",
     "output_type": "stream",
     "text": [
      "Custom weights: {'z': {'1': 0.9, '2': 0.02, '3': 0.04, '4': 0.04}} \n",
      "\n",
      "Dataframe of predictions: \n",
      "    unadj_pred  unif_wts   pop_wts  cust_wts\n",
      "0    6.746980  6.758377  6.767430  6.744531\n",
      "1    6.075054  6.103145  6.106634  6.105993\n",
      "2    5.917782  5.889691  5.885582  5.915334\n",
      "3    6.499167  6.521694  6.527037  6.518977\n",
      "4    6.741848  6.753245  6.762299  6.739400\n",
      "\n",
      "Statistical moments: \n",
      "        unadj_pred    unif_wts     pop_wts    cust_wts\n",
      "count  500.000000  500.000000  500.000000  500.000000\n",
      "mean     6.191450    6.191427    6.191072    6.205807\n",
      "std      0.549065    0.565770    0.571420    0.548989\n",
      "min      4.960387    4.943426    4.935606    4.980197\n",
      "25%      5.721015    5.703740    5.695550    5.741638\n",
      "50%      6.198308    6.196548    6.197703    6.206755\n",
      "75%      6.657816    6.679993    6.684631    6.681364\n",
      "max      7.633538    7.650499    7.657698    7.642218\n",
      "\n",
      "Correlation matrix of predictions: \n",
      "             unadj_pred  unif_wts   pop_wts  cust_wts\n",
      "unadj_pred    1.000000  0.999761  0.999663  0.999761\n",
      "unif_wts      0.999761  1.000000  0.999976  0.999768\n",
      "pop_wts       0.999663  0.999976  1.000000  0.999596\n",
      "cust_wts      0.999761  0.999768  0.999596  1.000000\n"
     ]
    }
   ],
   "source": [
    "print(\"Custom weights:\", weights, \"\\n\")\n",
    "print(\"Dataframe of predictions: \\n\", ex3.reset_index(drop=True).head())\n",
    "print(\"\\nStatistical moments: \\n\", ex3.describe())\n",
    "print(\"\\nCorrelation matrix of predictions: \\n\", ex3.corr())"
   ]
  },
  {
   "cell_type": "markdown",
   "metadata": {},
   "source": [
    "#### Example 4: Reweighting multiple features at onece - possible, but to be avoided!"
   ]
  },
  {
   "cell_type": "code",
   "execution_count": 19,
   "metadata": {},
   "outputs": [
    {
     "name": "stderr",
     "output_type": "stream",
     "text": [
      "\n",
      "Warning! The following features are extremely correlated and thus may be one-hot vectors: c0 c1. \n",
      "If no category is omitted, users must ensure custom marginal weights for one-hot vectors align correctly.\n"
     ]
    }
   ],
   "source": [
    "new_weights = {'c0': {0.0: 0.1, 1.0: 0.9}, 'c1': {0.0: 0.9, 1.0: 0.1}, 'z': {1.0: 0.9, 2.0: 0.02, 3.0: 0.04, 4.0: 0.04}}\n",
    "ex4 = DiscriminationMitigator(df=X_test, model=model, config=config, train=X_train, weights=new_weights).predictions()"
   ]
  },
  {
   "cell_type": "markdown",
   "metadata": {},
   "source": [
    "JOE: I don't understand what you are getting at here.  \n",
    "\n",
    "Though `DiscriminationMitigator` does not forbid it, we discourage users from reweighting multiple protected class features at the same time. The reason being that this attenuates the effect of the individual reweighted protected class feature. Each reweighted feature produces an *N* x 1 vector, so the preceding creates 3 counterfactual vectors, which are then averaged across for each person. Though the marginals may be weighted differently, this averaging may produce very similar predictions between `pop_wts` and `cust_wts` and should be hence avoided."
   ]
  },
  {
   "cell_type": "code",
   "execution_count": 17,
   "metadata": {},
   "outputs": [
    {
     "name": "stdout",
     "output_type": "stream",
     "text": [
      "Custom weights: {'c0': {0.0: 0.1, 1.0: 0.9}, 'c1': {0.0: 0.9, 1.0: 0.1}, 'z': {1.0: 0.9, 2.0: 0.02, 3.0: 0.04, 4.0: 0.04}} \n",
      "\n",
      "Dataframe of predictions: \n",
      "    unadj_pred  unif_wts   pop_wts  cust_wts\n",
      "0    6.661998  6.676531  6.654327  6.601067\n",
      "1    6.271629  6.202929  6.208470  6.155210\n",
      "2    5.450657  5.519357  5.515208  5.461948\n",
      "3    6.695879  6.654924  6.651216  6.597956\n",
      "4    6.580443  6.594976  6.572772  6.519513\n",
      "\n",
      "Statistical moments: \n",
      "        unadj_pred    unif_wts     pop_wts    cust_wts\n",
      "count  500.000000  500.000000  500.000000  500.000000\n",
      "mean     6.141468    6.141298    6.142123    6.088863\n",
      "std      0.559403    0.533642    0.526824    0.526824\n",
      "min      4.807796    4.876495    4.872347    4.819087\n",
      "25%      5.643587    5.679643    5.691246    5.637986\n",
      "50%      6.155550    6.154496    6.149170    6.095911\n",
      "75%      6.611161    6.593558    6.573488    6.520228\n",
      "max      7.422514    7.353815    7.359354    7.306095\n",
      "\n",
      "Correlation matrix of predictions: \n",
      "             unadj_pred  unif_wts   pop_wts  cust_wts\n",
      "unadj_pred    1.000000  0.998369  0.998899  0.998899\n",
      "unif_wts      0.998369  1.000000  0.999762  0.999762\n",
      "pop_wts       0.998899  0.999762  1.000000  1.000000\n",
      "cust_wts      0.998899  0.999762  1.000000  1.000000\n"
     ]
    }
   ],
   "source": [
    "print(\"Custom weights:\", new_weights, \"\\n\")\n",
    "print(\"Dataframe of predictions: \\n\", ex4.reset_index(drop=True).head())\n",
    "print(\"\\nStatistical moments: \\n\", ex4.describe())\n",
    "print(\"\\nCorrelation matrix of predictions: \\n\", ex4.corr())"
   ]
  }
 ],
 "metadata": {
  "@webio": {
   "lastCommId": null,
   "lastKernelId": null
  },
  "kernelspec": {
   "display_name": "Python 3.8",
   "language": "python",
   "name": "python-3.8"
  },
  "language_info": {
   "codemirror_mode": {
    "name": "ipython",
    "version": 3
   },
   "file_extension": ".py",
   "mimetype": "text/x-python",
   "name": "python",
   "nbconvert_exporter": "python",
   "pygments_lexer": "ipython3",
   "version": "3.8.3"
  }
 },
 "nbformat": 4,
 "nbformat_minor": 4
}
